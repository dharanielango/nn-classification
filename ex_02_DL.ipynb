{
  "nbformat": 4,
  "nbformat_minor": 0,
  "metadata": {
    "colab": {
      "provenance": []
    },
    "kernelspec": {
      "name": "python3",
      "display_name": "Python 3"
    },
    "language_info": {
      "name": "python"
    }
  },
  "cells": [
    {
      "cell_type": "code",
      "execution_count": 1,
      "metadata": {
        "id": "-ABZj0g1cS6j"
      },
      "outputs": [],
      "source": [
        "import pandas as pd\n",
        "from sklearn.model_selection import train_test_split\n",
        "from tensorflow.keras.models import Sequential\n",
        "from tensorflow.keras.models import load_model\n",
        "import pickle\n",
        "from tensorflow.keras.layers import Dense\n",
        "from tensorflow.keras.layers import Dropout\n",
        "from tensorflow.keras.layers import BatchNormalization\n",
        "import tensorflow as tf\n",
        "import seaborn as sns\n",
        "from tensorflow.keras.callbacks import EarlyStopping\n",
        "from sklearn.preprocessing import MinMaxScaler\n",
        "from sklearn.preprocessing import LabelEncoder\n",
        "from sklearn.preprocessing import OneHotEncoder\n",
        "from sklearn.preprocessing import OrdinalEncoder\n",
        "from sklearn.metrics import classification_report,confusion_matrix\n",
        "import numpy as np\n",
        "import matplotlib.pylab as plt"
      ]
    },
    {
      "cell_type": "code",
      "source": [
        "customer_df = pd.read_csv('customers.csv')"
      ],
      "metadata": {
        "id": "PeutxokHcVk_"
      },
      "execution_count": 2,
      "outputs": []
    },
    {
      "cell_type": "code",
      "source": [
        "customer_df.head()"
      ],
      "metadata": {
        "colab": {
          "base_uri": "https://localhost:8080/",
          "height": 206
        },
        "id": "yX2PXJqpcc8w",
        "outputId": "83d0ee57-146b-4392-ce22-61f7da4f483d"
      },
      "execution_count": 3,
      "outputs": [
        {
          "output_type": "execute_result",
          "data": {
            "text/plain": [
              "       ID  Gender Ever_Married  Age Graduated     Profession  Work_Experience  \\\n",
              "0  462809    Male           No   22        No     Healthcare              1.0   \n",
              "1  462643  Female          Yes   38       Yes       Engineer              NaN   \n",
              "2  466315  Female          Yes   67       Yes       Engineer              1.0   \n",
              "3  461735    Male          Yes   67       Yes         Lawyer              0.0   \n",
              "4  462669  Female          Yes   40       Yes  Entertainment              NaN   \n",
              "\n",
              "  Spending_Score  Family_Size  Var_1 Segmentation  \n",
              "0            Low          4.0  Cat_4            D  \n",
              "1        Average          3.0  Cat_4            A  \n",
              "2            Low          1.0  Cat_6            B  \n",
              "3           High          2.0  Cat_6            B  \n",
              "4           High          6.0  Cat_6            A  "
            ],
            "text/html": [
              "\n",
              "  <div id=\"df-534777d9-f70e-41ba-b144-d967c171af91\" class=\"colab-df-container\">\n",
              "    <div>\n",
              "<style scoped>\n",
              "    .dataframe tbody tr th:only-of-type {\n",
              "        vertical-align: middle;\n",
              "    }\n",
              "\n",
              "    .dataframe tbody tr th {\n",
              "        vertical-align: top;\n",
              "    }\n",
              "\n",
              "    .dataframe thead th {\n",
              "        text-align: right;\n",
              "    }\n",
              "</style>\n",
              "<table border=\"1\" class=\"dataframe\">\n",
              "  <thead>\n",
              "    <tr style=\"text-align: right;\">\n",
              "      <th></th>\n",
              "      <th>ID</th>\n",
              "      <th>Gender</th>\n",
              "      <th>Ever_Married</th>\n",
              "      <th>Age</th>\n",
              "      <th>Graduated</th>\n",
              "      <th>Profession</th>\n",
              "      <th>Work_Experience</th>\n",
              "      <th>Spending_Score</th>\n",
              "      <th>Family_Size</th>\n",
              "      <th>Var_1</th>\n",
              "      <th>Segmentation</th>\n",
              "    </tr>\n",
              "  </thead>\n",
              "  <tbody>\n",
              "    <tr>\n",
              "      <th>0</th>\n",
              "      <td>462809</td>\n",
              "      <td>Male</td>\n",
              "      <td>No</td>\n",
              "      <td>22</td>\n",
              "      <td>No</td>\n",
              "      <td>Healthcare</td>\n",
              "      <td>1.0</td>\n",
              "      <td>Low</td>\n",
              "      <td>4.0</td>\n",
              "      <td>Cat_4</td>\n",
              "      <td>D</td>\n",
              "    </tr>\n",
              "    <tr>\n",
              "      <th>1</th>\n",
              "      <td>462643</td>\n",
              "      <td>Female</td>\n",
              "      <td>Yes</td>\n",
              "      <td>38</td>\n",
              "      <td>Yes</td>\n",
              "      <td>Engineer</td>\n",
              "      <td>NaN</td>\n",
              "      <td>Average</td>\n",
              "      <td>3.0</td>\n",
              "      <td>Cat_4</td>\n",
              "      <td>A</td>\n",
              "    </tr>\n",
              "    <tr>\n",
              "      <th>2</th>\n",
              "      <td>466315</td>\n",
              "      <td>Female</td>\n",
              "      <td>Yes</td>\n",
              "      <td>67</td>\n",
              "      <td>Yes</td>\n",
              "      <td>Engineer</td>\n",
              "      <td>1.0</td>\n",
              "      <td>Low</td>\n",
              "      <td>1.0</td>\n",
              "      <td>Cat_6</td>\n",
              "      <td>B</td>\n",
              "    </tr>\n",
              "    <tr>\n",
              "      <th>3</th>\n",
              "      <td>461735</td>\n",
              "      <td>Male</td>\n",
              "      <td>Yes</td>\n",
              "      <td>67</td>\n",
              "      <td>Yes</td>\n",
              "      <td>Lawyer</td>\n",
              "      <td>0.0</td>\n",
              "      <td>High</td>\n",
              "      <td>2.0</td>\n",
              "      <td>Cat_6</td>\n",
              "      <td>B</td>\n",
              "    </tr>\n",
              "    <tr>\n",
              "      <th>4</th>\n",
              "      <td>462669</td>\n",
              "      <td>Female</td>\n",
              "      <td>Yes</td>\n",
              "      <td>40</td>\n",
              "      <td>Yes</td>\n",
              "      <td>Entertainment</td>\n",
              "      <td>NaN</td>\n",
              "      <td>High</td>\n",
              "      <td>6.0</td>\n",
              "      <td>Cat_6</td>\n",
              "      <td>A</td>\n",
              "    </tr>\n",
              "  </tbody>\n",
              "</table>\n",
              "</div>\n",
              "    <div class=\"colab-df-buttons\">\n",
              "\n",
              "  <div class=\"colab-df-container\">\n",
              "    <button class=\"colab-df-convert\" onclick=\"convertToInteractive('df-534777d9-f70e-41ba-b144-d967c171af91')\"\n",
              "            title=\"Convert this dataframe to an interactive table.\"\n",
              "            style=\"display:none;\">\n",
              "\n",
              "  <svg xmlns=\"http://www.w3.org/2000/svg\" height=\"24px\" viewBox=\"0 -960 960 960\">\n",
              "    <path d=\"M120-120v-720h720v720H120Zm60-500h600v-160H180v160Zm220 220h160v-160H400v160Zm0 220h160v-160H400v160ZM180-400h160v-160H180v160Zm440 0h160v-160H620v160ZM180-180h160v-160H180v160Zm440 0h160v-160H620v160Z\"/>\n",
              "  </svg>\n",
              "    </button>\n",
              "\n",
              "  <style>\n",
              "    .colab-df-container {\n",
              "      display:flex;\n",
              "      gap: 12px;\n",
              "    }\n",
              "\n",
              "    .colab-df-convert {\n",
              "      background-color: #E8F0FE;\n",
              "      border: none;\n",
              "      border-radius: 50%;\n",
              "      cursor: pointer;\n",
              "      display: none;\n",
              "      fill: #1967D2;\n",
              "      height: 32px;\n",
              "      padding: 0 0 0 0;\n",
              "      width: 32px;\n",
              "    }\n",
              "\n",
              "    .colab-df-convert:hover {\n",
              "      background-color: #E2EBFA;\n",
              "      box-shadow: 0px 1px 2px rgba(60, 64, 67, 0.3), 0px 1px 3px 1px rgba(60, 64, 67, 0.15);\n",
              "      fill: #174EA6;\n",
              "    }\n",
              "\n",
              "    .colab-df-buttons div {\n",
              "      margin-bottom: 4px;\n",
              "    }\n",
              "\n",
              "    [theme=dark] .colab-df-convert {\n",
              "      background-color: #3B4455;\n",
              "      fill: #D2E3FC;\n",
              "    }\n",
              "\n",
              "    [theme=dark] .colab-df-convert:hover {\n",
              "      background-color: #434B5C;\n",
              "      box-shadow: 0px 1px 3px 1px rgba(0, 0, 0, 0.15);\n",
              "      filter: drop-shadow(0px 1px 2px rgba(0, 0, 0, 0.3));\n",
              "      fill: #FFFFFF;\n",
              "    }\n",
              "  </style>\n",
              "\n",
              "    <script>\n",
              "      const buttonEl =\n",
              "        document.querySelector('#df-534777d9-f70e-41ba-b144-d967c171af91 button.colab-df-convert');\n",
              "      buttonEl.style.display =\n",
              "        google.colab.kernel.accessAllowed ? 'block' : 'none';\n",
              "\n",
              "      async function convertToInteractive(key) {\n",
              "        const element = document.querySelector('#df-534777d9-f70e-41ba-b144-d967c171af91');\n",
              "        const dataTable =\n",
              "          await google.colab.kernel.invokeFunction('convertToInteractive',\n",
              "                                                    [key], {});\n",
              "        if (!dataTable) return;\n",
              "\n",
              "        const docLinkHtml = 'Like what you see? Visit the ' +\n",
              "          '<a target=\"_blank\" href=https://colab.research.google.com/notebooks/data_table.ipynb>data table notebook</a>'\n",
              "          + ' to learn more about interactive tables.';\n",
              "        element.innerHTML = '';\n",
              "        dataTable['output_type'] = 'display_data';\n",
              "        await google.colab.output.renderOutput(dataTable, element);\n",
              "        const docLink = document.createElement('div');\n",
              "        docLink.innerHTML = docLinkHtml;\n",
              "        element.appendChild(docLink);\n",
              "      }\n",
              "    </script>\n",
              "  </div>\n",
              "\n",
              "\n",
              "<div id=\"df-2effff0f-04a9-4d80-a43a-684df7afd02c\">\n",
              "  <button class=\"colab-df-quickchart\" onclick=\"quickchart('df-2effff0f-04a9-4d80-a43a-684df7afd02c')\"\n",
              "            title=\"Suggest charts\"\n",
              "            style=\"display:none;\">\n",
              "\n",
              "<svg xmlns=\"http://www.w3.org/2000/svg\" height=\"24px\"viewBox=\"0 0 24 24\"\n",
              "     width=\"24px\">\n",
              "    <g>\n",
              "        <path d=\"M19 3H5c-1.1 0-2 .9-2 2v14c0 1.1.9 2 2 2h14c1.1 0 2-.9 2-2V5c0-1.1-.9-2-2-2zM9 17H7v-7h2v7zm4 0h-2V7h2v10zm4 0h-2v-4h2v4z\"/>\n",
              "    </g>\n",
              "</svg>\n",
              "  </button>\n",
              "\n",
              "<style>\n",
              "  .colab-df-quickchart {\n",
              "      --bg-color: #E8F0FE;\n",
              "      --fill-color: #1967D2;\n",
              "      --hover-bg-color: #E2EBFA;\n",
              "      --hover-fill-color: #174EA6;\n",
              "      --disabled-fill-color: #AAA;\n",
              "      --disabled-bg-color: #DDD;\n",
              "  }\n",
              "\n",
              "  [theme=dark] .colab-df-quickchart {\n",
              "      --bg-color: #3B4455;\n",
              "      --fill-color: #D2E3FC;\n",
              "      --hover-bg-color: #434B5C;\n",
              "      --hover-fill-color: #FFFFFF;\n",
              "      --disabled-bg-color: #3B4455;\n",
              "      --disabled-fill-color: #666;\n",
              "  }\n",
              "\n",
              "  .colab-df-quickchart {\n",
              "    background-color: var(--bg-color);\n",
              "    border: none;\n",
              "    border-radius: 50%;\n",
              "    cursor: pointer;\n",
              "    display: none;\n",
              "    fill: var(--fill-color);\n",
              "    height: 32px;\n",
              "    padding: 0;\n",
              "    width: 32px;\n",
              "  }\n",
              "\n",
              "  .colab-df-quickchart:hover {\n",
              "    background-color: var(--hover-bg-color);\n",
              "    box-shadow: 0 1px 2px rgba(60, 64, 67, 0.3), 0 1px 3px 1px rgba(60, 64, 67, 0.15);\n",
              "    fill: var(--button-hover-fill-color);\n",
              "  }\n",
              "\n",
              "  .colab-df-quickchart-complete:disabled,\n",
              "  .colab-df-quickchart-complete:disabled:hover {\n",
              "    background-color: var(--disabled-bg-color);\n",
              "    fill: var(--disabled-fill-color);\n",
              "    box-shadow: none;\n",
              "  }\n",
              "\n",
              "  .colab-df-spinner {\n",
              "    border: 2px solid var(--fill-color);\n",
              "    border-color: transparent;\n",
              "    border-bottom-color: var(--fill-color);\n",
              "    animation:\n",
              "      spin 1s steps(1) infinite;\n",
              "  }\n",
              "\n",
              "  @keyframes spin {\n",
              "    0% {\n",
              "      border-color: transparent;\n",
              "      border-bottom-color: var(--fill-color);\n",
              "      border-left-color: var(--fill-color);\n",
              "    }\n",
              "    20% {\n",
              "      border-color: transparent;\n",
              "      border-left-color: var(--fill-color);\n",
              "      border-top-color: var(--fill-color);\n",
              "    }\n",
              "    30% {\n",
              "      border-color: transparent;\n",
              "      border-left-color: var(--fill-color);\n",
              "      border-top-color: var(--fill-color);\n",
              "      border-right-color: var(--fill-color);\n",
              "    }\n",
              "    40% {\n",
              "      border-color: transparent;\n",
              "      border-right-color: var(--fill-color);\n",
              "      border-top-color: var(--fill-color);\n",
              "    }\n",
              "    60% {\n",
              "      border-color: transparent;\n",
              "      border-right-color: var(--fill-color);\n",
              "    }\n",
              "    80% {\n",
              "      border-color: transparent;\n",
              "      border-right-color: var(--fill-color);\n",
              "      border-bottom-color: var(--fill-color);\n",
              "    }\n",
              "    90% {\n",
              "      border-color: transparent;\n",
              "      border-bottom-color: var(--fill-color);\n",
              "    }\n",
              "  }\n",
              "</style>\n",
              "\n",
              "  <script>\n",
              "    async function quickchart(key) {\n",
              "      const quickchartButtonEl =\n",
              "        document.querySelector('#' + key + ' button');\n",
              "      quickchartButtonEl.disabled = true;  // To prevent multiple clicks.\n",
              "      quickchartButtonEl.classList.add('colab-df-spinner');\n",
              "      try {\n",
              "        const charts = await google.colab.kernel.invokeFunction(\n",
              "            'suggestCharts', [key], {});\n",
              "      } catch (error) {\n",
              "        console.error('Error during call to suggestCharts:', error);\n",
              "      }\n",
              "      quickchartButtonEl.classList.remove('colab-df-spinner');\n",
              "      quickchartButtonEl.classList.add('colab-df-quickchart-complete');\n",
              "    }\n",
              "    (() => {\n",
              "      let quickchartButtonEl =\n",
              "        document.querySelector('#df-2effff0f-04a9-4d80-a43a-684df7afd02c button');\n",
              "      quickchartButtonEl.style.display =\n",
              "        google.colab.kernel.accessAllowed ? 'block' : 'none';\n",
              "    })();\n",
              "  </script>\n",
              "</div>\n",
              "\n",
              "    </div>\n",
              "  </div>\n"
            ],
            "application/vnd.google.colaboratory.intrinsic+json": {
              "type": "dataframe",
              "variable_name": "customer_df",
              "summary": "{\n  \"name\": \"customer_df\",\n  \"rows\": 10695,\n  \"fields\": [\n    {\n      \"column\": \"ID\",\n      \"properties\": {\n        \"dtype\": \"number\",\n        \"std\": 2600,\n        \"min\": 458982,\n        \"max\": 467974,\n        \"num_unique_values\": 8363,\n        \"samples\": [\n          464796,\n          465198,\n          461563\n        ],\n        \"semantic_type\": \"\",\n        \"description\": \"\"\n      }\n    },\n    {\n      \"column\": \"Gender\",\n      \"properties\": {\n        \"dtype\": \"category\",\n        \"num_unique_values\": 2,\n        \"samples\": [\n          \"Female\",\n          \"Male\"\n        ],\n        \"semantic_type\": \"\",\n        \"description\": \"\"\n      }\n    },\n    {\n      \"column\": \"Ever_Married\",\n      \"properties\": {\n        \"dtype\": \"category\",\n        \"num_unique_values\": 2,\n        \"samples\": [\n          \"Yes\",\n          \"No\"\n        ],\n        \"semantic_type\": \"\",\n        \"description\": \"\"\n      }\n    },\n    {\n      \"column\": \"Age\",\n      \"properties\": {\n        \"dtype\": \"number\",\n        \"std\": 16,\n        \"min\": 18,\n        \"max\": 89,\n        \"num_unique_values\": 67,\n        \"samples\": [\n          30,\n          49\n        ],\n        \"semantic_type\": \"\",\n        \"description\": \"\"\n      }\n    },\n    {\n      \"column\": \"Graduated\",\n      \"properties\": {\n        \"dtype\": \"category\",\n        \"num_unique_values\": 2,\n        \"samples\": [\n          \"Yes\",\n          \"No\"\n        ],\n        \"semantic_type\": \"\",\n        \"description\": \"\"\n      }\n    },\n    {\n      \"column\": \"Profession\",\n      \"properties\": {\n        \"dtype\": \"category\",\n        \"num_unique_values\": 9,\n        \"samples\": [\n          \"Homemaker\",\n          \"Engineer\"\n        ],\n        \"semantic_type\": \"\",\n        \"description\": \"\"\n      }\n    },\n    {\n      \"column\": \"Work_Experience\",\n      \"properties\": {\n        \"dtype\": \"number\",\n        \"std\": 3.3907895488161914,\n        \"min\": 0.0,\n        \"max\": 14.0,\n        \"num_unique_values\": 15,\n        \"samples\": [\n          14.0,\n          2.0\n        ],\n        \"semantic_type\": \"\",\n        \"description\": \"\"\n      }\n    },\n    {\n      \"column\": \"Spending_Score\",\n      \"properties\": {\n        \"dtype\": \"category\",\n        \"num_unique_values\": 3,\n        \"samples\": [\n          \"Low\",\n          \"Average\"\n        ],\n        \"semantic_type\": \"\",\n        \"description\": \"\"\n      }\n    },\n    {\n      \"column\": \"Family_Size\",\n      \"properties\": {\n        \"dtype\": \"number\",\n        \"std\": 1.5364271953729582,\n        \"min\": 1.0,\n        \"max\": 9.0,\n        \"num_unique_values\": 9,\n        \"samples\": [\n          7.0,\n          3.0\n        ],\n        \"semantic_type\": \"\",\n        \"description\": \"\"\n      }\n    },\n    {\n      \"column\": \"Var_1\",\n      \"properties\": {\n        \"dtype\": \"category\",\n        \"num_unique_values\": 7,\n        \"samples\": [\n          \"Cat_4\",\n          \"Cat_6\"\n        ],\n        \"semantic_type\": \"\",\n        \"description\": \"\"\n      }\n    },\n    {\n      \"column\": \"Segmentation\",\n      \"properties\": {\n        \"dtype\": \"category\",\n        \"num_unique_values\": 4,\n        \"samples\": [\n          \"A\",\n          \"C\"\n        ],\n        \"semantic_type\": \"\",\n        \"description\": \"\"\n      }\n    }\n  ]\n}"
            }
          },
          "metadata": {},
          "execution_count": 3
        }
      ]
    },
    {
      "cell_type": "code",
      "source": [
        "customer_df.columns"
      ],
      "metadata": {
        "colab": {
          "base_uri": "https://localhost:8080/"
        },
        "id": "0Yfa-dyncfst",
        "outputId": "63f3a222-1389-4f9d-f8b7-fa26746e5f31"
      },
      "execution_count": 4,
      "outputs": [
        {
          "output_type": "execute_result",
          "data": {
            "text/plain": [
              "Index(['ID', 'Gender', 'Ever_Married', 'Age', 'Graduated', 'Profession',\n",
              "       'Work_Experience', 'Spending_Score', 'Family_Size', 'Var_1',\n",
              "       'Segmentation'],\n",
              "      dtype='object')"
            ]
          },
          "metadata": {},
          "execution_count": 4
        }
      ]
    },
    {
      "cell_type": "code",
      "source": [
        "customer_df.dtypes"
      ],
      "metadata": {
        "colab": {
          "base_uri": "https://localhost:8080/"
        },
        "id": "W33FmWO4cjwN",
        "outputId": "d9150f05-72e4-4421-aa11-6cba637e4314"
      },
      "execution_count": 5,
      "outputs": [
        {
          "output_type": "execute_result",
          "data": {
            "text/plain": [
              "ID                   int64\n",
              "Gender              object\n",
              "Ever_Married        object\n",
              "Age                  int64\n",
              "Graduated           object\n",
              "Profession          object\n",
              "Work_Experience    float64\n",
              "Spending_Score      object\n",
              "Family_Size        float64\n",
              "Var_1               object\n",
              "Segmentation        object\n",
              "dtype: object"
            ]
          },
          "metadata": {},
          "execution_count": 5
        }
      ]
    },
    {
      "cell_type": "code",
      "source": [
        "customer_df.shape"
      ],
      "metadata": {
        "colab": {
          "base_uri": "https://localhost:8080/"
        },
        "id": "Z81iWQ4fcmap",
        "outputId": "28a522b1-7d1f-46e3-adb2-2c582a07d29d"
      },
      "execution_count": 6,
      "outputs": [
        {
          "output_type": "execute_result",
          "data": {
            "text/plain": [
              "(10695, 11)"
            ]
          },
          "metadata": {},
          "execution_count": 6
        }
      ]
    },
    {
      "cell_type": "code",
      "source": [
        "customer_df.isnull().sum()"
      ],
      "metadata": {
        "colab": {
          "base_uri": "https://localhost:8080/"
        },
        "id": "Ye4e9vsCcpqw",
        "outputId": "c4de4f5d-5377-4c12-a3e5-ddced70af2bc"
      },
      "execution_count": 7,
      "outputs": [
        {
          "output_type": "execute_result",
          "data": {
            "text/plain": [
              "ID                    0\n",
              "Gender                0\n",
              "Ever_Married        190\n",
              "Age                   0\n",
              "Graduated           102\n",
              "Profession          162\n",
              "Work_Experience    1098\n",
              "Spending_Score        0\n",
              "Family_Size         448\n",
              "Var_1               108\n",
              "Segmentation          0\n",
              "dtype: int64"
            ]
          },
          "metadata": {},
          "execution_count": 7
        }
      ]
    },
    {
      "cell_type": "code",
      "source": [
        "customer_df_cleaned = customer_df.dropna(axis=0)"
      ],
      "metadata": {
        "id": "1t4aVZixcskt"
      },
      "execution_count": 8,
      "outputs": []
    },
    {
      "cell_type": "code",
      "source": [
        "customer_df_cleaned.isnull().sum()"
      ],
      "metadata": {
        "colab": {
          "base_uri": "https://localhost:8080/"
        },
        "id": "Mq2NeBRUcu7Y",
        "outputId": "93f2a011-b9d7-4998-8725-d31234187acb"
      },
      "execution_count": 9,
      "outputs": [
        {
          "output_type": "execute_result",
          "data": {
            "text/plain": [
              "ID                 0\n",
              "Gender             0\n",
              "Ever_Married       0\n",
              "Age                0\n",
              "Graduated          0\n",
              "Profession         0\n",
              "Work_Experience    0\n",
              "Spending_Score     0\n",
              "Family_Size        0\n",
              "Var_1              0\n",
              "Segmentation       0\n",
              "dtype: int64"
            ]
          },
          "metadata": {},
          "execution_count": 9
        }
      ]
    },
    {
      "cell_type": "code",
      "source": [
        "customer_df_cleaned.shape"
      ],
      "metadata": {
        "colab": {
          "base_uri": "https://localhost:8080/"
        },
        "id": "xbVr6S_zcxY4",
        "outputId": "300154a5-d587-4f69-c1f1-1e72adbf854a"
      },
      "execution_count": 10,
      "outputs": [
        {
          "output_type": "execute_result",
          "data": {
            "text/plain": [
              "(8819, 11)"
            ]
          },
          "metadata": {},
          "execution_count": 10
        }
      ]
    },
    {
      "cell_type": "code",
      "source": [
        "customer_df_cleaned.dtypes"
      ],
      "metadata": {
        "colab": {
          "base_uri": "https://localhost:8080/"
        },
        "id": "c2IBcsikczt7",
        "outputId": "51c2524d-6e02-42e7-8172-65d4e12c9701"
      },
      "execution_count": 11,
      "outputs": [
        {
          "output_type": "execute_result",
          "data": {
            "text/plain": [
              "ID                   int64\n",
              "Gender              object\n",
              "Ever_Married        object\n",
              "Age                  int64\n",
              "Graduated           object\n",
              "Profession          object\n",
              "Work_Experience    float64\n",
              "Spending_Score      object\n",
              "Family_Size        float64\n",
              "Var_1               object\n",
              "Segmentation        object\n",
              "dtype: object"
            ]
          },
          "metadata": {},
          "execution_count": 11
        }
      ]
    },
    {
      "cell_type": "code",
      "source": [
        "customer_df_cleaned['Gender'].unique()"
      ],
      "metadata": {
        "colab": {
          "base_uri": "https://localhost:8080/"
        },
        "id": "qjUVvEsDc2ST",
        "outputId": "e750214f-0d4c-437d-c61f-060f0888871a"
      },
      "execution_count": 12,
      "outputs": [
        {
          "output_type": "execute_result",
          "data": {
            "text/plain": [
              "array(['Male', 'Female'], dtype=object)"
            ]
          },
          "metadata": {},
          "execution_count": 12
        }
      ]
    },
    {
      "cell_type": "code",
      "source": [
        "customer_df_cleaned['Ever_Married'].unique()"
      ],
      "metadata": {
        "colab": {
          "base_uri": "https://localhost:8080/"
        },
        "id": "J4Lis87wc4so",
        "outputId": "53571e54-22d8-4b9d-bb1b-152c09c2ca24"
      },
      "execution_count": 13,
      "outputs": [
        {
          "output_type": "execute_result",
          "data": {
            "text/plain": [
              "array(['No', 'Yes'], dtype=object)"
            ]
          },
          "metadata": {},
          "execution_count": 13
        }
      ]
    },
    {
      "cell_type": "code",
      "source": [
        "customer_df_cleaned['Graduated'].unique()"
      ],
      "metadata": {
        "colab": {
          "base_uri": "https://localhost:8080/"
        },
        "id": "xyUwgeMpc7Td",
        "outputId": "541214bc-5cd5-4aef-e82a-1bb71b339f81"
      },
      "execution_count": 14,
      "outputs": [
        {
          "output_type": "execute_result",
          "data": {
            "text/plain": [
              "array(['No', 'Yes'], dtype=object)"
            ]
          },
          "metadata": {},
          "execution_count": 14
        }
      ]
    },
    {
      "cell_type": "code",
      "source": [
        "customer_df_cleaned['Profession'].unique()\n"
      ],
      "metadata": {
        "colab": {
          "base_uri": "https://localhost:8080/"
        },
        "id": "oX6FMtRec9uH",
        "outputId": "f213cae3-67a4-41a5-a5bc-267989e5c1d8"
      },
      "execution_count": 15,
      "outputs": [
        {
          "output_type": "execute_result",
          "data": {
            "text/plain": [
              "array(['Healthcare', 'Engineer', 'Lawyer', 'Artist', 'Doctor',\n",
              "       'Homemaker', 'Entertainment', 'Marketing', 'Executive'],\n",
              "      dtype=object)"
            ]
          },
          "metadata": {},
          "execution_count": 15
        }
      ]
    },
    {
      "cell_type": "code",
      "source": [
        "customer_df_cleaned['Spending_Score'].unique()"
      ],
      "metadata": {
        "colab": {
          "base_uri": "https://localhost:8080/"
        },
        "id": "tIki8FU4dBj-",
        "outputId": "4c616646-d3b8-44c2-b386-fad7a9fd1104"
      },
      "execution_count": 16,
      "outputs": [
        {
          "output_type": "execute_result",
          "data": {
            "text/plain": [
              "array(['Low', 'High', 'Average'], dtype=object)"
            ]
          },
          "metadata": {},
          "execution_count": 16
        }
      ]
    },
    {
      "cell_type": "code",
      "source": [
        "customer_df_cleaned['Var_1'].unique()"
      ],
      "metadata": {
        "colab": {
          "base_uri": "https://localhost:8080/"
        },
        "id": "3KIAuAOOdEK_",
        "outputId": "756a5820-01b7-4155-959a-5d372e0ce432"
      },
      "execution_count": 17,
      "outputs": [
        {
          "output_type": "execute_result",
          "data": {
            "text/plain": [
              "array(['Cat_4', 'Cat_6', 'Cat_7', 'Cat_3', 'Cat_1', 'Cat_2', 'Cat_5'],\n",
              "      dtype=object)"
            ]
          },
          "metadata": {},
          "execution_count": 17
        }
      ]
    },
    {
      "cell_type": "code",
      "source": [
        "customer_df_cleaned['Segmentation'].unique()"
      ],
      "metadata": {
        "colab": {
          "base_uri": "https://localhost:8080/"
        },
        "id": "5SO2p6tEdGPn",
        "outputId": "cc45ef77-5969-47a3-95b1-5adc9dd2c59b"
      },
      "execution_count": 18,
      "outputs": [
        {
          "output_type": "execute_result",
          "data": {
            "text/plain": [
              "array(['D', 'B', 'C', 'A'], dtype=object)"
            ]
          },
          "metadata": {},
          "execution_count": 18
        }
      ]
    },
    {
      "cell_type": "code",
      "source": [
        "categories_list=[['Male', 'Female'],\n",
        "           ['No', 'Yes'],\n",
        "           ['No', 'Yes'],\n",
        "           ['Healthcare', 'Engineer', 'Lawyer', 'Artist', 'Doctor',\n",
        "            'Homemaker', 'Entertainment', 'Marketing', 'Executive'],\n",
        "           ['Low', 'Average', 'High']\n",
        "           ]"
      ],
      "metadata": {
        "id": "vh1Y5iTtdJE3"
      },
      "execution_count": 19,
      "outputs": []
    },
    {
      "cell_type": "code",
      "source": [
        "enc = OrdinalEncoder(categories=categories_list)"
      ],
      "metadata": {
        "id": "swAhyTsldMeg"
      },
      "execution_count": 20,
      "outputs": []
    },
    {
      "cell_type": "code",
      "source": [
        "customers_1 = customer_df_cleaned.copy()"
      ],
      "metadata": {
        "id": "9xJRf6VmdOor"
      },
      "execution_count": 21,
      "outputs": []
    },
    {
      "cell_type": "code",
      "source": [
        "customers_1[['Gender','Ever_Married','Graduated','Profession','Spending_Score']] = enc.fit_transform(customers_1[['Gender','Ever_Married','Graduated','Profession','Spending_Score']])"
      ],
      "metadata": {
        "id": "CWrU3_FDdTqD"
      },
      "execution_count": 22,
      "outputs": []
    },
    {
      "cell_type": "code",
      "source": [
        "customers_1.dtypes"
      ],
      "metadata": {
        "colab": {
          "base_uri": "https://localhost:8080/"
        },
        "id": "UgPBJqMrdWsQ",
        "outputId": "0ad392e7-af49-4d7f-d6f0-eb94aa549bd9"
      },
      "execution_count": 23,
      "outputs": [
        {
          "output_type": "execute_result",
          "data": {
            "text/plain": [
              "ID                   int64\n",
              "Gender             float64\n",
              "Ever_Married       float64\n",
              "Age                  int64\n",
              "Graduated          float64\n",
              "Profession         float64\n",
              "Work_Experience    float64\n",
              "Spending_Score     float64\n",
              "Family_Size        float64\n",
              "Var_1               object\n",
              "Segmentation        object\n",
              "dtype: object"
            ]
          },
          "metadata": {},
          "execution_count": 23
        }
      ]
    },
    {
      "cell_type": "code",
      "source": [
        "le = LabelEncoder()"
      ],
      "metadata": {
        "id": "9CaiKDSmdZDu"
      },
      "execution_count": 24,
      "outputs": []
    },
    {
      "cell_type": "code",
      "source": [
        "customers_1['Segmentation'] = le.fit_transform(customers_1['Segmentation'])"
      ],
      "metadata": {
        "id": "qI_GchcjdboW"
      },
      "execution_count": 25,
      "outputs": []
    },
    {
      "cell_type": "code",
      "source": [
        "customers_1.dtypes"
      ],
      "metadata": {
        "colab": {
          "base_uri": "https://localhost:8080/"
        },
        "id": "s9WToYvIddxe",
        "outputId": "bff1069b-30a7-4da5-d20b-c8a968444aaa"
      },
      "execution_count": 26,
      "outputs": [
        {
          "output_type": "execute_result",
          "data": {
            "text/plain": [
              "ID                   int64\n",
              "Gender             float64\n",
              "Ever_Married       float64\n",
              "Age                  int64\n",
              "Graduated          float64\n",
              "Profession         float64\n",
              "Work_Experience    float64\n",
              "Spending_Score     float64\n",
              "Family_Size        float64\n",
              "Var_1               object\n",
              "Segmentation         int64\n",
              "dtype: object"
            ]
          },
          "metadata": {},
          "execution_count": 26
        }
      ]
    },
    {
      "cell_type": "code",
      "source": [
        "customers_1 = customers_1.drop('ID',axis=1)"
      ],
      "metadata": {
        "id": "siyZoac-dg5L"
      },
      "execution_count": 27,
      "outputs": []
    },
    {
      "cell_type": "code",
      "source": [
        "customers_1 = customers_1.drop('Var_1',axis=1)"
      ],
      "metadata": {
        "id": "5U7mMQmHdjDL"
      },
      "execution_count": 28,
      "outputs": []
    },
    {
      "cell_type": "code",
      "source": [
        "customers_1.dtypes"
      ],
      "metadata": {
        "colab": {
          "base_uri": "https://localhost:8080/"
        },
        "id": "lQm6owAedlYi",
        "outputId": "78315ebc-00b8-4eb1-97f3-5f9a52f45e96"
      },
      "execution_count": 29,
      "outputs": [
        {
          "output_type": "execute_result",
          "data": {
            "text/plain": [
              "Gender             float64\n",
              "Ever_Married       float64\n",
              "Age                  int64\n",
              "Graduated          float64\n",
              "Profession         float64\n",
              "Work_Experience    float64\n",
              "Spending_Score     float64\n",
              "Family_Size        float64\n",
              "Segmentation         int64\n",
              "dtype: object"
            ]
          },
          "metadata": {},
          "execution_count": 29
        }
      ]
    },
    {
      "cell_type": "code",
      "source": [
        "customers_1.describe()"
      ],
      "metadata": {
        "colab": {
          "base_uri": "https://localhost:8080/",
          "height": 300
        },
        "id": "x3UGnV6Ndnrm",
        "outputId": "54ee33b4-5a82-4492-b3c7-a111190659db"
      },
      "execution_count": 30,
      "outputs": [
        {
          "output_type": "execute_result",
          "data": {
            "text/plain": [
              "            Gender  Ever_Married          Age    Graduated   Profession  \\\n",
              "count  8819.000000   8819.000000  8819.000000  8819.000000  8819.000000   \n",
              "mean      0.448804      0.591450    43.517859     0.634312     3.287561   \n",
              "std       0.497400      0.491594    16.581537     0.481650     2.346652   \n",
              "min       0.000000      0.000000    18.000000     0.000000     0.000000   \n",
              "25%       0.000000      0.000000    31.000000     0.000000     2.000000   \n",
              "50%       0.000000      1.000000    41.000000     1.000000     3.000000   \n",
              "75%       1.000000      1.000000    53.000000     1.000000     5.000000   \n",
              "max       1.000000      1.000000    89.000000     1.000000     8.000000   \n",
              "\n",
              "       Work_Experience  Spending_Score  Family_Size  Segmentation  \n",
              "count      8819.000000     8819.000000  8819.000000   8819.000000  \n",
              "mean          2.610160        0.544846     2.840118      1.518086  \n",
              "std           3.390676        0.738487     1.535051      1.146645  \n",
              "min           0.000000        0.000000     1.000000      0.000000  \n",
              "25%           0.000000        0.000000     2.000000      0.000000  \n",
              "50%           1.000000        0.000000     2.000000      2.000000  \n",
              "75%           4.000000        1.000000     4.000000      3.000000  \n",
              "max          14.000000        2.000000     9.000000      3.000000  "
            ],
            "text/html": [
              "\n",
              "  <div id=\"df-cd1a815d-0f41-4481-856d-4001950ffb8c\" class=\"colab-df-container\">\n",
              "    <div>\n",
              "<style scoped>\n",
              "    .dataframe tbody tr th:only-of-type {\n",
              "        vertical-align: middle;\n",
              "    }\n",
              "\n",
              "    .dataframe tbody tr th {\n",
              "        vertical-align: top;\n",
              "    }\n",
              "\n",
              "    .dataframe thead th {\n",
              "        text-align: right;\n",
              "    }\n",
              "</style>\n",
              "<table border=\"1\" class=\"dataframe\">\n",
              "  <thead>\n",
              "    <tr style=\"text-align: right;\">\n",
              "      <th></th>\n",
              "      <th>Gender</th>\n",
              "      <th>Ever_Married</th>\n",
              "      <th>Age</th>\n",
              "      <th>Graduated</th>\n",
              "      <th>Profession</th>\n",
              "      <th>Work_Experience</th>\n",
              "      <th>Spending_Score</th>\n",
              "      <th>Family_Size</th>\n",
              "      <th>Segmentation</th>\n",
              "    </tr>\n",
              "  </thead>\n",
              "  <tbody>\n",
              "    <tr>\n",
              "      <th>count</th>\n",
              "      <td>8819.000000</td>\n",
              "      <td>8819.000000</td>\n",
              "      <td>8819.000000</td>\n",
              "      <td>8819.000000</td>\n",
              "      <td>8819.000000</td>\n",
              "      <td>8819.000000</td>\n",
              "      <td>8819.000000</td>\n",
              "      <td>8819.000000</td>\n",
              "      <td>8819.000000</td>\n",
              "    </tr>\n",
              "    <tr>\n",
              "      <th>mean</th>\n",
              "      <td>0.448804</td>\n",
              "      <td>0.591450</td>\n",
              "      <td>43.517859</td>\n",
              "      <td>0.634312</td>\n",
              "      <td>3.287561</td>\n",
              "      <td>2.610160</td>\n",
              "      <td>0.544846</td>\n",
              "      <td>2.840118</td>\n",
              "      <td>1.518086</td>\n",
              "    </tr>\n",
              "    <tr>\n",
              "      <th>std</th>\n",
              "      <td>0.497400</td>\n",
              "      <td>0.491594</td>\n",
              "      <td>16.581537</td>\n",
              "      <td>0.481650</td>\n",
              "      <td>2.346652</td>\n",
              "      <td>3.390676</td>\n",
              "      <td>0.738487</td>\n",
              "      <td>1.535051</td>\n",
              "      <td>1.146645</td>\n",
              "    </tr>\n",
              "    <tr>\n",
              "      <th>min</th>\n",
              "      <td>0.000000</td>\n",
              "      <td>0.000000</td>\n",
              "      <td>18.000000</td>\n",
              "      <td>0.000000</td>\n",
              "      <td>0.000000</td>\n",
              "      <td>0.000000</td>\n",
              "      <td>0.000000</td>\n",
              "      <td>1.000000</td>\n",
              "      <td>0.000000</td>\n",
              "    </tr>\n",
              "    <tr>\n",
              "      <th>25%</th>\n",
              "      <td>0.000000</td>\n",
              "      <td>0.000000</td>\n",
              "      <td>31.000000</td>\n",
              "      <td>0.000000</td>\n",
              "      <td>2.000000</td>\n",
              "      <td>0.000000</td>\n",
              "      <td>0.000000</td>\n",
              "      <td>2.000000</td>\n",
              "      <td>0.000000</td>\n",
              "    </tr>\n",
              "    <tr>\n",
              "      <th>50%</th>\n",
              "      <td>0.000000</td>\n",
              "      <td>1.000000</td>\n",
              "      <td>41.000000</td>\n",
              "      <td>1.000000</td>\n",
              "      <td>3.000000</td>\n",
              "      <td>1.000000</td>\n",
              "      <td>0.000000</td>\n",
              "      <td>2.000000</td>\n",
              "      <td>2.000000</td>\n",
              "    </tr>\n",
              "    <tr>\n",
              "      <th>75%</th>\n",
              "      <td>1.000000</td>\n",
              "      <td>1.000000</td>\n",
              "      <td>53.000000</td>\n",
              "      <td>1.000000</td>\n",
              "      <td>5.000000</td>\n",
              "      <td>4.000000</td>\n",
              "      <td>1.000000</td>\n",
              "      <td>4.000000</td>\n",
              "      <td>3.000000</td>\n",
              "    </tr>\n",
              "    <tr>\n",
              "      <th>max</th>\n",
              "      <td>1.000000</td>\n",
              "      <td>1.000000</td>\n",
              "      <td>89.000000</td>\n",
              "      <td>1.000000</td>\n",
              "      <td>8.000000</td>\n",
              "      <td>14.000000</td>\n",
              "      <td>2.000000</td>\n",
              "      <td>9.000000</td>\n",
              "      <td>3.000000</td>\n",
              "    </tr>\n",
              "  </tbody>\n",
              "</table>\n",
              "</div>\n",
              "    <div class=\"colab-df-buttons\">\n",
              "\n",
              "  <div class=\"colab-df-container\">\n",
              "    <button class=\"colab-df-convert\" onclick=\"convertToInteractive('df-cd1a815d-0f41-4481-856d-4001950ffb8c')\"\n",
              "            title=\"Convert this dataframe to an interactive table.\"\n",
              "            style=\"display:none;\">\n",
              "\n",
              "  <svg xmlns=\"http://www.w3.org/2000/svg\" height=\"24px\" viewBox=\"0 -960 960 960\">\n",
              "    <path d=\"M120-120v-720h720v720H120Zm60-500h600v-160H180v160Zm220 220h160v-160H400v160Zm0 220h160v-160H400v160ZM180-400h160v-160H180v160Zm440 0h160v-160H620v160ZM180-180h160v-160H180v160Zm440 0h160v-160H620v160Z\"/>\n",
              "  </svg>\n",
              "    </button>\n",
              "\n",
              "  <style>\n",
              "    .colab-df-container {\n",
              "      display:flex;\n",
              "      gap: 12px;\n",
              "    }\n",
              "\n",
              "    .colab-df-convert {\n",
              "      background-color: #E8F0FE;\n",
              "      border: none;\n",
              "      border-radius: 50%;\n",
              "      cursor: pointer;\n",
              "      display: none;\n",
              "      fill: #1967D2;\n",
              "      height: 32px;\n",
              "      padding: 0 0 0 0;\n",
              "      width: 32px;\n",
              "    }\n",
              "\n",
              "    .colab-df-convert:hover {\n",
              "      background-color: #E2EBFA;\n",
              "      box-shadow: 0px 1px 2px rgba(60, 64, 67, 0.3), 0px 1px 3px 1px rgba(60, 64, 67, 0.15);\n",
              "      fill: #174EA6;\n",
              "    }\n",
              "\n",
              "    .colab-df-buttons div {\n",
              "      margin-bottom: 4px;\n",
              "    }\n",
              "\n",
              "    [theme=dark] .colab-df-convert {\n",
              "      background-color: #3B4455;\n",
              "      fill: #D2E3FC;\n",
              "    }\n",
              "\n",
              "    [theme=dark] .colab-df-convert:hover {\n",
              "      background-color: #434B5C;\n",
              "      box-shadow: 0px 1px 3px 1px rgba(0, 0, 0, 0.15);\n",
              "      filter: drop-shadow(0px 1px 2px rgba(0, 0, 0, 0.3));\n",
              "      fill: #FFFFFF;\n",
              "    }\n",
              "  </style>\n",
              "\n",
              "    <script>\n",
              "      const buttonEl =\n",
              "        document.querySelector('#df-cd1a815d-0f41-4481-856d-4001950ffb8c button.colab-df-convert');\n",
              "      buttonEl.style.display =\n",
              "        google.colab.kernel.accessAllowed ? 'block' : 'none';\n",
              "\n",
              "      async function convertToInteractive(key) {\n",
              "        const element = document.querySelector('#df-cd1a815d-0f41-4481-856d-4001950ffb8c');\n",
              "        const dataTable =\n",
              "          await google.colab.kernel.invokeFunction('convertToInteractive',\n",
              "                                                    [key], {});\n",
              "        if (!dataTable) return;\n",
              "\n",
              "        const docLinkHtml = 'Like what you see? Visit the ' +\n",
              "          '<a target=\"_blank\" href=https://colab.research.google.com/notebooks/data_table.ipynb>data table notebook</a>'\n",
              "          + ' to learn more about interactive tables.';\n",
              "        element.innerHTML = '';\n",
              "        dataTable['output_type'] = 'display_data';\n",
              "        await google.colab.output.renderOutput(dataTable, element);\n",
              "        const docLink = document.createElement('div');\n",
              "        docLink.innerHTML = docLinkHtml;\n",
              "        element.appendChild(docLink);\n",
              "      }\n",
              "    </script>\n",
              "  </div>\n",
              "\n",
              "\n",
              "<div id=\"df-1c970d71-2028-4c0e-bf67-4eec5c0a1d3e\">\n",
              "  <button class=\"colab-df-quickchart\" onclick=\"quickchart('df-1c970d71-2028-4c0e-bf67-4eec5c0a1d3e')\"\n",
              "            title=\"Suggest charts\"\n",
              "            style=\"display:none;\">\n",
              "\n",
              "<svg xmlns=\"http://www.w3.org/2000/svg\" height=\"24px\"viewBox=\"0 0 24 24\"\n",
              "     width=\"24px\">\n",
              "    <g>\n",
              "        <path d=\"M19 3H5c-1.1 0-2 .9-2 2v14c0 1.1.9 2 2 2h14c1.1 0 2-.9 2-2V5c0-1.1-.9-2-2-2zM9 17H7v-7h2v7zm4 0h-2V7h2v10zm4 0h-2v-4h2v4z\"/>\n",
              "    </g>\n",
              "</svg>\n",
              "  </button>\n",
              "\n",
              "<style>\n",
              "  .colab-df-quickchart {\n",
              "      --bg-color: #E8F0FE;\n",
              "      --fill-color: #1967D2;\n",
              "      --hover-bg-color: #E2EBFA;\n",
              "      --hover-fill-color: #174EA6;\n",
              "      --disabled-fill-color: #AAA;\n",
              "      --disabled-bg-color: #DDD;\n",
              "  }\n",
              "\n",
              "  [theme=dark] .colab-df-quickchart {\n",
              "      --bg-color: #3B4455;\n",
              "      --fill-color: #D2E3FC;\n",
              "      --hover-bg-color: #434B5C;\n",
              "      --hover-fill-color: #FFFFFF;\n",
              "      --disabled-bg-color: #3B4455;\n",
              "      --disabled-fill-color: #666;\n",
              "  }\n",
              "\n",
              "  .colab-df-quickchart {\n",
              "    background-color: var(--bg-color);\n",
              "    border: none;\n",
              "    border-radius: 50%;\n",
              "    cursor: pointer;\n",
              "    display: none;\n",
              "    fill: var(--fill-color);\n",
              "    height: 32px;\n",
              "    padding: 0;\n",
              "    width: 32px;\n",
              "  }\n",
              "\n",
              "  .colab-df-quickchart:hover {\n",
              "    background-color: var(--hover-bg-color);\n",
              "    box-shadow: 0 1px 2px rgba(60, 64, 67, 0.3), 0 1px 3px 1px rgba(60, 64, 67, 0.15);\n",
              "    fill: var(--button-hover-fill-color);\n",
              "  }\n",
              "\n",
              "  .colab-df-quickchart-complete:disabled,\n",
              "  .colab-df-quickchart-complete:disabled:hover {\n",
              "    background-color: var(--disabled-bg-color);\n",
              "    fill: var(--disabled-fill-color);\n",
              "    box-shadow: none;\n",
              "  }\n",
              "\n",
              "  .colab-df-spinner {\n",
              "    border: 2px solid var(--fill-color);\n",
              "    border-color: transparent;\n",
              "    border-bottom-color: var(--fill-color);\n",
              "    animation:\n",
              "      spin 1s steps(1) infinite;\n",
              "  }\n",
              "\n",
              "  @keyframes spin {\n",
              "    0% {\n",
              "      border-color: transparent;\n",
              "      border-bottom-color: var(--fill-color);\n",
              "      border-left-color: var(--fill-color);\n",
              "    }\n",
              "    20% {\n",
              "      border-color: transparent;\n",
              "      border-left-color: var(--fill-color);\n",
              "      border-top-color: var(--fill-color);\n",
              "    }\n",
              "    30% {\n",
              "      border-color: transparent;\n",
              "      border-left-color: var(--fill-color);\n",
              "      border-top-color: var(--fill-color);\n",
              "      border-right-color: var(--fill-color);\n",
              "    }\n",
              "    40% {\n",
              "      border-color: transparent;\n",
              "      border-right-color: var(--fill-color);\n",
              "      border-top-color: var(--fill-color);\n",
              "    }\n",
              "    60% {\n",
              "      border-color: transparent;\n",
              "      border-right-color: var(--fill-color);\n",
              "    }\n",
              "    80% {\n",
              "      border-color: transparent;\n",
              "      border-right-color: var(--fill-color);\n",
              "      border-bottom-color: var(--fill-color);\n",
              "    }\n",
              "    90% {\n",
              "      border-color: transparent;\n",
              "      border-bottom-color: var(--fill-color);\n",
              "    }\n",
              "  }\n",
              "</style>\n",
              "\n",
              "  <script>\n",
              "    async function quickchart(key) {\n",
              "      const quickchartButtonEl =\n",
              "        document.querySelector('#' + key + ' button');\n",
              "      quickchartButtonEl.disabled = true;  // To prevent multiple clicks.\n",
              "      quickchartButtonEl.classList.add('colab-df-spinner');\n",
              "      try {\n",
              "        const charts = await google.colab.kernel.invokeFunction(\n",
              "            'suggestCharts', [key], {});\n",
              "      } catch (error) {\n",
              "        console.error('Error during call to suggestCharts:', error);\n",
              "      }\n",
              "      quickchartButtonEl.classList.remove('colab-df-spinner');\n",
              "      quickchartButtonEl.classList.add('colab-df-quickchart-complete');\n",
              "    }\n",
              "    (() => {\n",
              "      let quickchartButtonEl =\n",
              "        document.querySelector('#df-1c970d71-2028-4c0e-bf67-4eec5c0a1d3e button');\n",
              "      quickchartButtonEl.style.display =\n",
              "        google.colab.kernel.accessAllowed ? 'block' : 'none';\n",
              "    })();\n",
              "  </script>\n",
              "</div>\n",
              "\n",
              "    </div>\n",
              "  </div>\n"
            ],
            "application/vnd.google.colaboratory.intrinsic+json": {
              "type": "dataframe",
              "summary": "{\n  \"name\": \"customers_1\",\n  \"rows\": 8,\n  \"fields\": [\n    {\n      \"column\": \"Gender\",\n      \"properties\": {\n        \"dtype\": \"number\",\n        \"std\": 3117.8385735644974,\n        \"min\": 0.0,\n        \"max\": 8819.0,\n        \"num_unique_values\": 5,\n        \"samples\": [\n          0.44880371924254453,\n          1.0,\n          0.4974002359237323\n        ],\n        \"semantic_type\": \"\",\n        \"description\": \"\"\n      }\n    },\n    {\n      \"column\": \"Ever_Married\",\n      \"properties\": {\n        \"dtype\": \"number\",\n        \"std\": 3117.781154503104,\n        \"min\": 0.0,\n        \"max\": 8819.0,\n        \"num_unique_values\": 5,\n        \"samples\": [\n          0.5914502778092754,\n          1.0,\n          0.4915935814982178\n        ],\n        \"semantic_type\": \"\",\n        \"description\": \"\"\n      }\n    },\n    {\n      \"column\": \"Age\",\n      \"properties\": {\n        \"dtype\": \"number\",\n        \"std\": 3103.3187126345056,\n        \"min\": 16.58153711917013,\n        \"max\": 8819.0,\n        \"num_unique_values\": 8,\n        \"samples\": [\n          43.51785916770609,\n          41.0,\n          8819.0\n        ],\n        \"semantic_type\": \"\",\n        \"description\": \"\"\n      }\n    },\n    {\n      \"column\": \"Graduated\",\n      \"properties\": {\n        \"dtype\": \"number\",\n        \"std\": 3117.779491981186,\n        \"min\": 0.0,\n        \"max\": 8819.0,\n        \"num_unique_values\": 5,\n        \"samples\": [\n          0.6343122803038893,\n          1.0,\n          0.4816497863263137\n        ],\n        \"semantic_type\": \"\",\n        \"description\": \"\"\n      }\n    },\n    {\n      \"column\": \"Profession\",\n      \"properties\": {\n        \"dtype\": \"number\",\n        \"std\": 3116.7945263622864,\n        \"min\": 0.0,\n        \"max\": 8819.0,\n        \"num_unique_values\": 8,\n        \"samples\": [\n          3.2875609479532826,\n          3.0,\n          8819.0\n        ],\n        \"semantic_type\": \"\",\n        \"description\": \"\"\n      }\n    },\n    {\n      \"column\": \"Work_Experience\",\n      \"properties\": {\n        \"dtype\": \"number\",\n        \"std\": 3116.727873507666,\n        \"min\": 0.0,\n        \"max\": 8819.0,\n        \"num_unique_values\": 7,\n        \"samples\": [\n          8819.0,\n          2.6101598820727974,\n          4.0\n        ],\n        \"semantic_type\": \"\",\n        \"description\": \"\"\n      }\n    },\n    {\n      \"column\": \"Spending_Score\",\n      \"properties\": {\n        \"dtype\": \"number\",\n        \"std\": 3117.771084429154,\n        \"min\": 0.0,\n        \"max\": 8819.0,\n        \"num_unique_values\": 6,\n        \"samples\": [\n          8819.0,\n          0.5448463544619572,\n          2.0\n        ],\n        \"semantic_type\": \"\",\n        \"description\": \"\"\n      }\n    },\n    {\n      \"column\": \"Family_Size\",\n      \"properties\": {\n        \"dtype\": \"number\",\n        \"std\": 3116.8582639634405,\n        \"min\": 1.0,\n        \"max\": 8819.0,\n        \"num_unique_values\": 7,\n        \"samples\": [\n          8819.0,\n          2.840117927202631,\n          4.0\n        ],\n        \"semantic_type\": \"\",\n        \"description\": \"\"\n      }\n    },\n    {\n      \"column\": \"Segmentation\",\n      \"properties\": {\n        \"dtype\": \"number\",\n        \"std\": 3117.448916094136,\n        \"min\": 0.0,\n        \"max\": 8819.0,\n        \"num_unique_values\": 6,\n        \"samples\": [\n          8819.0,\n          1.5180859507880713,\n          3.0\n        ],\n        \"semantic_type\": \"\",\n        \"description\": \"\"\n      }\n    }\n  ]\n}"
            }
          },
          "metadata": {},
          "execution_count": 30
        }
      ]
    },
    {
      "cell_type": "code",
      "source": [
        "customers_1['Segmentation'].unique()"
      ],
      "metadata": {
        "colab": {
          "base_uri": "https://localhost:8080/"
        },
        "id": "gf5RZFU3dqqo",
        "outputId": "b6da6fa2-dd71-417a-8035-c42c06e0df36"
      },
      "execution_count": 31,
      "outputs": [
        {
          "output_type": "execute_result",
          "data": {
            "text/plain": [
              "array([3, 1, 2, 0])"
            ]
          },
          "metadata": {},
          "execution_count": 31
        }
      ]
    },
    {
      "cell_type": "code",
      "source": [
        "X=customers_1[['Gender','Ever_Married','Age','Graduated','Profession','Work_Experience','Spending_Score','Family_Size']].values"
      ],
      "metadata": {
        "id": "eFmJHhCmdt3u"
      },
      "execution_count": 32,
      "outputs": []
    },
    {
      "cell_type": "code",
      "source": [
        "y1 = customers_1[['Segmentation']].values"
      ],
      "metadata": {
        "id": "BnMWY5cMdwyI"
      },
      "execution_count": 33,
      "outputs": []
    },
    {
      "cell_type": "code",
      "source": [
        "one_hot_enc = OneHotEncoder()"
      ],
      "metadata": {
        "id": "v6yVpG_qd7Xa"
      },
      "execution_count": 36,
      "outputs": []
    },
    {
      "cell_type": "code",
      "source": [
        "one_hot_enc.fit(y1)"
      ],
      "metadata": {
        "colab": {
          "base_uri": "https://localhost:8080/",
          "height": 74
        },
        "id": "-CJZM8grd1mz",
        "outputId": "003ff168-0c29-48e7-8866-ca659b939786"
      },
      "execution_count": 37,
      "outputs": [
        {
          "output_type": "execute_result",
          "data": {
            "text/plain": [
              "OneHotEncoder()"
            ],
            "text/html": [
              "<style>#sk-container-id-1 {color: black;background-color: white;}#sk-container-id-1 pre{padding: 0;}#sk-container-id-1 div.sk-toggleable {background-color: white;}#sk-container-id-1 label.sk-toggleable__label {cursor: pointer;display: block;width: 100%;margin-bottom: 0;padding: 0.3em;box-sizing: border-box;text-align: center;}#sk-container-id-1 label.sk-toggleable__label-arrow:before {content: \"▸\";float: left;margin-right: 0.25em;color: #696969;}#sk-container-id-1 label.sk-toggleable__label-arrow:hover:before {color: black;}#sk-container-id-1 div.sk-estimator:hover label.sk-toggleable__label-arrow:before {color: black;}#sk-container-id-1 div.sk-toggleable__content {max-height: 0;max-width: 0;overflow: hidden;text-align: left;background-color: #f0f8ff;}#sk-container-id-1 div.sk-toggleable__content pre {margin: 0.2em;color: black;border-radius: 0.25em;background-color: #f0f8ff;}#sk-container-id-1 input.sk-toggleable__control:checked~div.sk-toggleable__content {max-height: 200px;max-width: 100%;overflow: auto;}#sk-container-id-1 input.sk-toggleable__control:checked~label.sk-toggleable__label-arrow:before {content: \"▾\";}#sk-container-id-1 div.sk-estimator input.sk-toggleable__control:checked~label.sk-toggleable__label {background-color: #d4ebff;}#sk-container-id-1 div.sk-label input.sk-toggleable__control:checked~label.sk-toggleable__label {background-color: #d4ebff;}#sk-container-id-1 input.sk-hidden--visually {border: 0;clip: rect(1px 1px 1px 1px);clip: rect(1px, 1px, 1px, 1px);height: 1px;margin: -1px;overflow: hidden;padding: 0;position: absolute;width: 1px;}#sk-container-id-1 div.sk-estimator {font-family: monospace;background-color: #f0f8ff;border: 1px dotted black;border-radius: 0.25em;box-sizing: border-box;margin-bottom: 0.5em;}#sk-container-id-1 div.sk-estimator:hover {background-color: #d4ebff;}#sk-container-id-1 div.sk-parallel-item::after {content: \"\";width: 100%;border-bottom: 1px solid gray;flex-grow: 1;}#sk-container-id-1 div.sk-label:hover label.sk-toggleable__label {background-color: #d4ebff;}#sk-container-id-1 div.sk-serial::before {content: \"\";position: absolute;border-left: 1px solid gray;box-sizing: border-box;top: 0;bottom: 0;left: 50%;z-index: 0;}#sk-container-id-1 div.sk-serial {display: flex;flex-direction: column;align-items: center;background-color: white;padding-right: 0.2em;padding-left: 0.2em;position: relative;}#sk-container-id-1 div.sk-item {position: relative;z-index: 1;}#sk-container-id-1 div.sk-parallel {display: flex;align-items: stretch;justify-content: center;background-color: white;position: relative;}#sk-container-id-1 div.sk-item::before, #sk-container-id-1 div.sk-parallel-item::before {content: \"\";position: absolute;border-left: 1px solid gray;box-sizing: border-box;top: 0;bottom: 0;left: 50%;z-index: -1;}#sk-container-id-1 div.sk-parallel-item {display: flex;flex-direction: column;z-index: 1;position: relative;background-color: white;}#sk-container-id-1 div.sk-parallel-item:first-child::after {align-self: flex-end;width: 50%;}#sk-container-id-1 div.sk-parallel-item:last-child::after {align-self: flex-start;width: 50%;}#sk-container-id-1 div.sk-parallel-item:only-child::after {width: 0;}#sk-container-id-1 div.sk-dashed-wrapped {border: 1px dashed gray;margin: 0 0.4em 0.5em 0.4em;box-sizing: border-box;padding-bottom: 0.4em;background-color: white;}#sk-container-id-1 div.sk-label label {font-family: monospace;font-weight: bold;display: inline-block;line-height: 1.2em;}#sk-container-id-1 div.sk-label-container {text-align: center;}#sk-container-id-1 div.sk-container {/* jupyter's `normalize.less` sets `[hidden] { display: none; }` but bootstrap.min.css set `[hidden] { display: none !important; }` so we also need the `!important` here to be able to override the default hidden behavior on the sphinx rendered scikit-learn.org. See: https://github.com/scikit-learn/scikit-learn/issues/21755 */display: inline-block !important;position: relative;}#sk-container-id-1 div.sk-text-repr-fallback {display: none;}</style><div id=\"sk-container-id-1\" class=\"sk-top-container\"><div class=\"sk-text-repr-fallback\"><pre>OneHotEncoder()</pre><b>In a Jupyter environment, please rerun this cell to show the HTML representation or trust the notebook. <br />On GitHub, the HTML representation is unable to render, please try loading this page with nbviewer.org.</b></div><div class=\"sk-container\" hidden><div class=\"sk-item\"><div class=\"sk-estimator sk-toggleable\"><input class=\"sk-toggleable__control sk-hidden--visually\" id=\"sk-estimator-id-1\" type=\"checkbox\" checked><label for=\"sk-estimator-id-1\" class=\"sk-toggleable__label sk-toggleable__label-arrow\">OneHotEncoder</label><div class=\"sk-toggleable__content\"><pre>OneHotEncoder()</pre></div></div></div></div></div>"
            ]
          },
          "metadata": {},
          "execution_count": 37
        }
      ]
    },
    {
      "cell_type": "code",
      "source": [
        "y1.shape"
      ],
      "metadata": {
        "colab": {
          "base_uri": "https://localhost:8080/"
        },
        "id": "smrjOTMjd_fu",
        "outputId": "264ca4c7-0e90-4266-a288-0f87c249960f"
      },
      "execution_count": 38,
      "outputs": [
        {
          "output_type": "execute_result",
          "data": {
            "text/plain": [
              "(8819, 1)"
            ]
          },
          "metadata": {},
          "execution_count": 38
        }
      ]
    },
    {
      "cell_type": "code",
      "source": [
        "y = one_hot_enc.transform(y1).toarray()"
      ],
      "metadata": {
        "id": "ovQqtHRheEIw"
      },
      "execution_count": 39,
      "outputs": []
    },
    {
      "cell_type": "code",
      "source": [
        "y.shape"
      ],
      "metadata": {
        "colab": {
          "base_uri": "https://localhost:8080/"
        },
        "id": "jXMkxpGreGiB",
        "outputId": "55b300f1-dc8f-4e4b-86ec-197841b02428"
      },
      "execution_count": 40,
      "outputs": [
        {
          "output_type": "execute_result",
          "data": {
            "text/plain": [
              "(8819, 4)"
            ]
          },
          "metadata": {},
          "execution_count": 40
        }
      ]
    },
    {
      "cell_type": "code",
      "source": [
        "y1[0]"
      ],
      "metadata": {
        "colab": {
          "base_uri": "https://localhost:8080/"
        },
        "id": "r3YEYpeqeJFa",
        "outputId": "2f3bdae2-c0d1-4efd-c54f-5b03f1a3e1bc"
      },
      "execution_count": 41,
      "outputs": [
        {
          "output_type": "execute_result",
          "data": {
            "text/plain": [
              "array([3])"
            ]
          },
          "metadata": {},
          "execution_count": 41
        }
      ]
    },
    {
      "cell_type": "code",
      "source": [
        "y[0]"
      ],
      "metadata": {
        "colab": {
          "base_uri": "https://localhost:8080/"
        },
        "id": "stSWG5JjeK84",
        "outputId": "1a92ae86-485a-4bb2-b9bd-bcae961fd709"
      },
      "execution_count": 57,
      "outputs": [
        {
          "output_type": "execute_result",
          "data": {
            "text/plain": [
              "array([0., 0., 0., 1.])"
            ]
          },
          "metadata": {},
          "execution_count": 57
        }
      ]
    },
    {
      "cell_type": "code",
      "source": [
        "X.shape"
      ],
      "metadata": {
        "colab": {
          "base_uri": "https://localhost:8080/"
        },
        "id": "EoPEsRFMeNTx",
        "outputId": "7032f0d0-d02a-426e-f7d1-fb160a912c1b"
      },
      "execution_count": 58,
      "outputs": [
        {
          "output_type": "execute_result",
          "data": {
            "text/plain": [
              "(8819, 8)"
            ]
          },
          "metadata": {},
          "execution_count": 58
        }
      ]
    },
    {
      "cell_type": "code",
      "source": [
        "X_train,X_test,y_train,y_test=train_test_split(X,y,test_size=0.33,random_state=50)"
      ],
      "metadata": {
        "id": "bPtNK3HUeNlr"
      },
      "execution_count": 59,
      "outputs": []
    },
    {
      "cell_type": "code",
      "source": [
        "X_train[0]"
      ],
      "metadata": {
        "colab": {
          "base_uri": "https://localhost:8080/"
        },
        "id": "G2kcJyUneTpM",
        "outputId": "dad1f7d6-854b-48dc-f684-b06a561f10fd"
      },
      "execution_count": 60,
      "outputs": [
        {
          "output_type": "execute_result",
          "data": {
            "text/plain": [
              "array([ 1.,  1., 85.,  0.,  2.,  0.,  0.,  1.])"
            ]
          },
          "metadata": {},
          "execution_count": 60
        }
      ]
    },
    {
      "cell_type": "code",
      "source": [
        "X_train.shape"
      ],
      "metadata": {
        "colab": {
          "base_uri": "https://localhost:8080/"
        },
        "id": "Z7fyxQqAeVt8",
        "outputId": "a11f7709-905e-4c99-8ab2-e4442521c2fc"
      },
      "execution_count": 61,
      "outputs": [
        {
          "output_type": "execute_result",
          "data": {
            "text/plain": [
              "(5908, 8)"
            ]
          },
          "metadata": {},
          "execution_count": 61
        }
      ]
    },
    {
      "cell_type": "code",
      "source": [
        "scaler_age = MinMaxScaler()"
      ],
      "metadata": {
        "id": "ZGKyPfLleYB1"
      },
      "execution_count": 62,
      "outputs": []
    },
    {
      "cell_type": "code",
      "source": [
        "scaler_age.fit(X_train[:,2].reshape(-1,1))"
      ],
      "metadata": {
        "colab": {
          "base_uri": "https://localhost:8080/",
          "height": 74
        },
        "id": "SsDe7p-wecJe",
        "outputId": "dbfe6de0-9785-4d95-8423-8972a748bcb4"
      },
      "execution_count": 63,
      "outputs": [
        {
          "output_type": "execute_result",
          "data": {
            "text/plain": [
              "MinMaxScaler()"
            ],
            "text/html": [
              "<style>#sk-container-id-3 {color: black;background-color: white;}#sk-container-id-3 pre{padding: 0;}#sk-container-id-3 div.sk-toggleable {background-color: white;}#sk-container-id-3 label.sk-toggleable__label {cursor: pointer;display: block;width: 100%;margin-bottom: 0;padding: 0.3em;box-sizing: border-box;text-align: center;}#sk-container-id-3 label.sk-toggleable__label-arrow:before {content: \"▸\";float: left;margin-right: 0.25em;color: #696969;}#sk-container-id-3 label.sk-toggleable__label-arrow:hover:before {color: black;}#sk-container-id-3 div.sk-estimator:hover label.sk-toggleable__label-arrow:before {color: black;}#sk-container-id-3 div.sk-toggleable__content {max-height: 0;max-width: 0;overflow: hidden;text-align: left;background-color: #f0f8ff;}#sk-container-id-3 div.sk-toggleable__content pre {margin: 0.2em;color: black;border-radius: 0.25em;background-color: #f0f8ff;}#sk-container-id-3 input.sk-toggleable__control:checked~div.sk-toggleable__content {max-height: 200px;max-width: 100%;overflow: auto;}#sk-container-id-3 input.sk-toggleable__control:checked~label.sk-toggleable__label-arrow:before {content: \"▾\";}#sk-container-id-3 div.sk-estimator input.sk-toggleable__control:checked~label.sk-toggleable__label {background-color: #d4ebff;}#sk-container-id-3 div.sk-label input.sk-toggleable__control:checked~label.sk-toggleable__label {background-color: #d4ebff;}#sk-container-id-3 input.sk-hidden--visually {border: 0;clip: rect(1px 1px 1px 1px);clip: rect(1px, 1px, 1px, 1px);height: 1px;margin: -1px;overflow: hidden;padding: 0;position: absolute;width: 1px;}#sk-container-id-3 div.sk-estimator {font-family: monospace;background-color: #f0f8ff;border: 1px dotted black;border-radius: 0.25em;box-sizing: border-box;margin-bottom: 0.5em;}#sk-container-id-3 div.sk-estimator:hover {background-color: #d4ebff;}#sk-container-id-3 div.sk-parallel-item::after {content: \"\";width: 100%;border-bottom: 1px solid gray;flex-grow: 1;}#sk-container-id-3 div.sk-label:hover label.sk-toggleable__label {background-color: #d4ebff;}#sk-container-id-3 div.sk-serial::before {content: \"\";position: absolute;border-left: 1px solid gray;box-sizing: border-box;top: 0;bottom: 0;left: 50%;z-index: 0;}#sk-container-id-3 div.sk-serial {display: flex;flex-direction: column;align-items: center;background-color: white;padding-right: 0.2em;padding-left: 0.2em;position: relative;}#sk-container-id-3 div.sk-item {position: relative;z-index: 1;}#sk-container-id-3 div.sk-parallel {display: flex;align-items: stretch;justify-content: center;background-color: white;position: relative;}#sk-container-id-3 div.sk-item::before, #sk-container-id-3 div.sk-parallel-item::before {content: \"\";position: absolute;border-left: 1px solid gray;box-sizing: border-box;top: 0;bottom: 0;left: 50%;z-index: -1;}#sk-container-id-3 div.sk-parallel-item {display: flex;flex-direction: column;z-index: 1;position: relative;background-color: white;}#sk-container-id-3 div.sk-parallel-item:first-child::after {align-self: flex-end;width: 50%;}#sk-container-id-3 div.sk-parallel-item:last-child::after {align-self: flex-start;width: 50%;}#sk-container-id-3 div.sk-parallel-item:only-child::after {width: 0;}#sk-container-id-3 div.sk-dashed-wrapped {border: 1px dashed gray;margin: 0 0.4em 0.5em 0.4em;box-sizing: border-box;padding-bottom: 0.4em;background-color: white;}#sk-container-id-3 div.sk-label label {font-family: monospace;font-weight: bold;display: inline-block;line-height: 1.2em;}#sk-container-id-3 div.sk-label-container {text-align: center;}#sk-container-id-3 div.sk-container {/* jupyter's `normalize.less` sets `[hidden] { display: none; }` but bootstrap.min.css set `[hidden] { display: none !important; }` so we also need the `!important` here to be able to override the default hidden behavior on the sphinx rendered scikit-learn.org. See: https://github.com/scikit-learn/scikit-learn/issues/21755 */display: inline-block !important;position: relative;}#sk-container-id-3 div.sk-text-repr-fallback {display: none;}</style><div id=\"sk-container-id-3\" class=\"sk-top-container\"><div class=\"sk-text-repr-fallback\"><pre>MinMaxScaler()</pre><b>In a Jupyter environment, please rerun this cell to show the HTML representation or trust the notebook. <br />On GitHub, the HTML representation is unable to render, please try loading this page with nbviewer.org.</b></div><div class=\"sk-container\" hidden><div class=\"sk-item\"><div class=\"sk-estimator sk-toggleable\"><input class=\"sk-toggleable__control sk-hidden--visually\" id=\"sk-estimator-id-3\" type=\"checkbox\" checked><label for=\"sk-estimator-id-3\" class=\"sk-toggleable__label sk-toggleable__label-arrow\">MinMaxScaler</label><div class=\"sk-toggleable__content\"><pre>MinMaxScaler()</pre></div></div></div></div></div>"
            ]
          },
          "metadata": {},
          "execution_count": 63
        }
      ]
    },
    {
      "cell_type": "code",
      "source": [
        "X_train_scaled = np.copy(X_train)\n",
        "X_test_scaled = np.copy(X_test)"
      ],
      "metadata": {
        "id": "E30l9Q6HeelY"
      },
      "execution_count": 64,
      "outputs": []
    },
    {
      "cell_type": "code",
      "source": [
        "X_train_scaled[:,2] = scaler_age.transform(X_train[:,2].reshape(-1,1)).reshape(-1)\n",
        "X_test_scaled[:,2] = scaler_age.transform(X_test[:,2].reshape(-1,1)).reshape(-1)"
      ],
      "metadata": {
        "id": "FdW_c3TNehTa"
      },
      "execution_count": 65,
      "outputs": []
    },
    {
      "cell_type": "code",
      "source": [
        "ai_brain = Sequential([\n",
        "    Dense(units=7,activation='relu',input_shape=[8]),\n",
        "    Dense(units=5,activation='relu'),\n",
        "    Dense(units=3,activation='relu'),\n",
        "    Dense(units=4,activation='softmax')\n",
        "])"
      ],
      "metadata": {
        "id": "gLiHGC_Pej2z"
      },
      "execution_count": 66,
      "outputs": []
    },
    {
      "cell_type": "code",
      "source": [
        "ai_brain.compile(optimizer='adam',\n",
        "                 loss= 'categorical_crossentropy',\n",
        "                 metrics=['accuracy'])"
      ],
      "metadata": {
        "id": "Yn-QbuCqemcC"
      },
      "execution_count": 67,
      "outputs": []
    },
    {
      "cell_type": "code",
      "source": [
        "\n",
        "ai_brain.fit(x=X_train_scaled,y=y_train,epochs= 200,batch_size=256,validation_data=(X_test_scaled,y_test),)"
      ],
      "metadata": {
        "colab": {
          "base_uri": "https://localhost:8080/"
        },
        "id": "6taYAP9neslx",
        "outputId": "292d2b01-e8e6-48bb-b9cc-983622814fb3"
      },
      "execution_count": 68,
      "outputs": [
        {
          "output_type": "stream",
          "name": "stdout",
          "text": [
            "Epoch 1/200\n",
            "24/24 [==============================] - 1s 11ms/step - loss: 1.7271 - accuracy: 0.2265 - val_loss: 1.5754 - val_accuracy: 0.2370\n",
            "Epoch 2/200\n",
            "24/24 [==============================] - 0s 4ms/step - loss: 1.5412 - accuracy: 0.2290 - val_loss: 1.4753 - val_accuracy: 0.2353\n",
            "Epoch 3/200\n",
            "24/24 [==============================] - 0s 4ms/step - loss: 1.4693 - accuracy: 0.2288 - val_loss: 1.4362 - val_accuracy: 0.2281\n",
            "Epoch 4/200\n",
            "24/24 [==============================] - 0s 6ms/step - loss: 1.4360 - accuracy: 0.2268 - val_loss: 1.4157 - val_accuracy: 0.2384\n",
            "Epoch 5/200\n",
            "24/24 [==============================] - 0s 4ms/step - loss: 1.4168 - accuracy: 0.2339 - val_loss: 1.4041 - val_accuracy: 0.2439\n",
            "Epoch 6/200\n",
            "24/24 [==============================] - 0s 4ms/step - loss: 1.4053 - accuracy: 0.2393 - val_loss: 1.3970 - val_accuracy: 0.2477\n",
            "Epoch 7/200\n",
            "24/24 [==============================] - 0s 4ms/step - loss: 1.3975 - accuracy: 0.2420 - val_loss: 1.3913 - val_accuracy: 0.2556\n",
            "Epoch 8/200\n",
            "24/24 [==============================] - 0s 4ms/step - loss: 1.3915 - accuracy: 0.2534 - val_loss: 1.3866 - val_accuracy: 0.2535\n",
            "Epoch 9/200\n",
            "24/24 [==============================] - 0s 4ms/step - loss: 1.3863 - accuracy: 0.2603 - val_loss: 1.3825 - val_accuracy: 0.2645\n",
            "Epoch 10/200\n",
            "24/24 [==============================] - 0s 4ms/step - loss: 1.3820 - accuracy: 0.2676 - val_loss: 1.3785 - val_accuracy: 0.2728\n",
            "Epoch 11/200\n",
            "24/24 [==============================] - 0s 8ms/step - loss: 1.3778 - accuracy: 0.2823 - val_loss: 1.3746 - val_accuracy: 0.2872\n",
            "Epoch 12/200\n",
            "24/24 [==============================] - 0s 7ms/step - loss: 1.3740 - accuracy: 0.2879 - val_loss: 1.3707 - val_accuracy: 0.2872\n",
            "Epoch 13/200\n",
            "24/24 [==============================] - 0s 8ms/step - loss: 1.3705 - accuracy: 0.2989 - val_loss: 1.3676 - val_accuracy: 0.2971\n",
            "Epoch 14/200\n",
            "24/24 [==============================] - 0s 7ms/step - loss: 1.3673 - accuracy: 0.3099 - val_loss: 1.3647 - val_accuracy: 0.3030\n",
            "Epoch 15/200\n",
            "24/24 [==============================] - 0s 7ms/step - loss: 1.3642 - accuracy: 0.3179 - val_loss: 1.3619 - val_accuracy: 0.3133\n",
            "Epoch 16/200\n",
            "24/24 [==============================] - 0s 6ms/step - loss: 1.3612 - accuracy: 0.3216 - val_loss: 1.3590 - val_accuracy: 0.3133\n",
            "Epoch 17/200\n",
            "24/24 [==============================] - 0s 7ms/step - loss: 1.3581 - accuracy: 0.3253 - val_loss: 1.3562 - val_accuracy: 0.3160\n",
            "Epoch 18/200\n",
            "24/24 [==============================] - 0s 8ms/step - loss: 1.3549 - accuracy: 0.3284 - val_loss: 1.3534 - val_accuracy: 0.3167\n",
            "Epoch 19/200\n",
            "24/24 [==============================] - 0s 8ms/step - loss: 1.3517 - accuracy: 0.3316 - val_loss: 1.3506 - val_accuracy: 0.3246\n",
            "Epoch 20/200\n",
            "24/24 [==============================] - 0s 8ms/step - loss: 1.3487 - accuracy: 0.3378 - val_loss: 1.3478 - val_accuracy: 0.3281\n",
            "Epoch 21/200\n",
            "24/24 [==============================] - 0s 8ms/step - loss: 1.3456 - accuracy: 0.3394 - val_loss: 1.3449 - val_accuracy: 0.3329\n",
            "Epoch 22/200\n",
            "24/24 [==============================] - 0s 8ms/step - loss: 1.3423 - accuracy: 0.3505 - val_loss: 1.3419 - val_accuracy: 0.3425\n",
            "Epoch 23/200\n",
            "24/24 [==============================] - 0s 4ms/step - loss: 1.3387 - accuracy: 0.3595 - val_loss: 1.3391 - val_accuracy: 0.3538\n",
            "Epoch 24/200\n",
            "24/24 [==============================] - 0s 4ms/step - loss: 1.3353 - accuracy: 0.3644 - val_loss: 1.3359 - val_accuracy: 0.3580\n",
            "Epoch 25/200\n",
            "24/24 [==============================] - 0s 4ms/step - loss: 1.3317 - accuracy: 0.3749 - val_loss: 1.3330 - val_accuracy: 0.3710\n",
            "Epoch 26/200\n",
            "24/24 [==============================] - 0s 4ms/step - loss: 1.3286 - accuracy: 0.3815 - val_loss: 1.3300 - val_accuracy: 0.3720\n",
            "Epoch 27/200\n",
            "24/24 [==============================] - 0s 4ms/step - loss: 1.3253 - accuracy: 0.3857 - val_loss: 1.3275 - val_accuracy: 0.3858\n",
            "Epoch 28/200\n",
            "24/24 [==============================] - 0s 5ms/step - loss: 1.3224 - accuracy: 0.3915 - val_loss: 1.3249 - val_accuracy: 0.3830\n",
            "Epoch 29/200\n",
            "24/24 [==============================] - 0s 4ms/step - loss: 1.3193 - accuracy: 0.3944 - val_loss: 1.3223 - val_accuracy: 0.3854\n",
            "Epoch 30/200\n",
            "24/24 [==============================] - 0s 4ms/step - loss: 1.3162 - accuracy: 0.3991 - val_loss: 1.3197 - val_accuracy: 0.3920\n",
            "Epoch 31/200\n",
            "24/24 [==============================] - 0s 4ms/step - loss: 1.3131 - accuracy: 0.3991 - val_loss: 1.3171 - val_accuracy: 0.3902\n",
            "Epoch 32/200\n",
            "24/24 [==============================] - 0s 4ms/step - loss: 1.3102 - accuracy: 0.4005 - val_loss: 1.3145 - val_accuracy: 0.3913\n",
            "Epoch 33/200\n",
            "24/24 [==============================] - 0s 4ms/step - loss: 1.3072 - accuracy: 0.4050 - val_loss: 1.3118 - val_accuracy: 0.3909\n",
            "Epoch 34/200\n",
            "24/24 [==============================] - 0s 4ms/step - loss: 1.3043 - accuracy: 0.4049 - val_loss: 1.3092 - val_accuracy: 0.3899\n",
            "Epoch 35/200\n",
            "24/24 [==============================] - 0s 4ms/step - loss: 1.3018 - accuracy: 0.4050 - val_loss: 1.3068 - val_accuracy: 0.3923\n",
            "Epoch 36/200\n",
            "24/24 [==============================] - 0s 4ms/step - loss: 1.2989 - accuracy: 0.4064 - val_loss: 1.3046 - val_accuracy: 0.3920\n",
            "Epoch 37/200\n",
            "24/24 [==============================] - 0s 4ms/step - loss: 1.2965 - accuracy: 0.4054 - val_loss: 1.3025 - val_accuracy: 0.3930\n",
            "Epoch 38/200\n",
            "24/24 [==============================] - 0s 4ms/step - loss: 1.2939 - accuracy: 0.4071 - val_loss: 1.3005 - val_accuracy: 0.3961\n",
            "Epoch 39/200\n",
            "24/24 [==============================] - 0s 4ms/step - loss: 1.2918 - accuracy: 0.4098 - val_loss: 1.2982 - val_accuracy: 0.4012\n",
            "Epoch 40/200\n",
            "24/24 [==============================] - 0s 4ms/step - loss: 1.2897 - accuracy: 0.4142 - val_loss: 1.2958 - val_accuracy: 0.4016\n",
            "Epoch 41/200\n",
            "24/24 [==============================] - 0s 4ms/step - loss: 1.2871 - accuracy: 0.4128 - val_loss: 1.2940 - val_accuracy: 0.4030\n",
            "Epoch 42/200\n",
            "24/24 [==============================] - 0s 4ms/step - loss: 1.2856 - accuracy: 0.4132 - val_loss: 1.2921 - val_accuracy: 0.4040\n",
            "Epoch 43/200\n",
            "24/24 [==============================] - 0s 4ms/step - loss: 1.2833 - accuracy: 0.4130 - val_loss: 1.2897 - val_accuracy: 0.4078\n",
            "Epoch 44/200\n",
            "24/24 [==============================] - 0s 4ms/step - loss: 1.2808 - accuracy: 0.4174 - val_loss: 1.2880 - val_accuracy: 0.4047\n",
            "Epoch 45/200\n",
            "24/24 [==============================] - 0s 4ms/step - loss: 1.2797 - accuracy: 0.4152 - val_loss: 1.2866 - val_accuracy: 0.4064\n",
            "Epoch 46/200\n",
            "24/24 [==============================] - 0s 4ms/step - loss: 1.2775 - accuracy: 0.4179 - val_loss: 1.2851 - val_accuracy: 0.4078\n",
            "Epoch 47/200\n",
            "24/24 [==============================] - 0s 4ms/step - loss: 1.2763 - accuracy: 0.4188 - val_loss: 1.2836 - val_accuracy: 0.4098\n",
            "Epoch 48/200\n",
            "24/24 [==============================] - 0s 4ms/step - loss: 1.2749 - accuracy: 0.4196 - val_loss: 1.2821 - val_accuracy: 0.4091\n",
            "Epoch 49/200\n",
            "24/24 [==============================] - 0s 5ms/step - loss: 1.2737 - accuracy: 0.4172 - val_loss: 1.2811 - val_accuracy: 0.4071\n",
            "Epoch 50/200\n",
            "24/24 [==============================] - 0s 4ms/step - loss: 1.2722 - accuracy: 0.4174 - val_loss: 1.2794 - val_accuracy: 0.4109\n",
            "Epoch 51/200\n",
            "24/24 [==============================] - 0s 4ms/step - loss: 1.2707 - accuracy: 0.4191 - val_loss: 1.2782 - val_accuracy: 0.4071\n",
            "Epoch 52/200\n",
            "24/24 [==============================] - 0s 4ms/step - loss: 1.2693 - accuracy: 0.4176 - val_loss: 1.2770 - val_accuracy: 0.4095\n",
            "Epoch 53/200\n",
            "24/24 [==============================] - 0s 4ms/step - loss: 1.2678 - accuracy: 0.4201 - val_loss: 1.2761 - val_accuracy: 0.4085\n",
            "Epoch 54/200\n",
            "24/24 [==============================] - 0s 4ms/step - loss: 1.2666 - accuracy: 0.4204 - val_loss: 1.2750 - val_accuracy: 0.4091\n",
            "Epoch 55/200\n",
            "24/24 [==============================] - 0s 4ms/step - loss: 1.2655 - accuracy: 0.4171 - val_loss: 1.2740 - val_accuracy: 0.4098\n",
            "Epoch 56/200\n",
            "24/24 [==============================] - 0s 4ms/step - loss: 1.2643 - accuracy: 0.4211 - val_loss: 1.2728 - val_accuracy: 0.4139\n",
            "Epoch 57/200\n",
            "24/24 [==============================] - 0s 4ms/step - loss: 1.2633 - accuracy: 0.4203 - val_loss: 1.2720 - val_accuracy: 0.4143\n",
            "Epoch 58/200\n",
            "24/24 [==============================] - 0s 4ms/step - loss: 1.2620 - accuracy: 0.4182 - val_loss: 1.2709 - val_accuracy: 0.4122\n",
            "Epoch 59/200\n",
            "24/24 [==============================] - 0s 4ms/step - loss: 1.2609 - accuracy: 0.4181 - val_loss: 1.2698 - val_accuracy: 0.4122\n",
            "Epoch 60/200\n",
            "24/24 [==============================] - 0s 4ms/step - loss: 1.2602 - accuracy: 0.4230 - val_loss: 1.2691 - val_accuracy: 0.4153\n",
            "Epoch 61/200\n",
            "24/24 [==============================] - 0s 4ms/step - loss: 1.2592 - accuracy: 0.4230 - val_loss: 1.2685 - val_accuracy: 0.4136\n",
            "Epoch 62/200\n",
            "24/24 [==============================] - 0s 4ms/step - loss: 1.2584 - accuracy: 0.4225 - val_loss: 1.2675 - val_accuracy: 0.4160\n",
            "Epoch 63/200\n",
            "24/24 [==============================] - 0s 4ms/step - loss: 1.2575 - accuracy: 0.4248 - val_loss: 1.2666 - val_accuracy: 0.4126\n",
            "Epoch 64/200\n",
            "24/24 [==============================] - 0s 4ms/step - loss: 1.2571 - accuracy: 0.4255 - val_loss: 1.2663 - val_accuracy: 0.4139\n",
            "Epoch 65/200\n",
            "24/24 [==============================] - 0s 4ms/step - loss: 1.2556 - accuracy: 0.4225 - val_loss: 1.2659 - val_accuracy: 0.4133\n",
            "Epoch 66/200\n",
            "24/24 [==============================] - 0s 4ms/step - loss: 1.2553 - accuracy: 0.4215 - val_loss: 1.2644 - val_accuracy: 0.4143\n",
            "Epoch 67/200\n",
            "24/24 [==============================] - 0s 4ms/step - loss: 1.2542 - accuracy: 0.4225 - val_loss: 1.2641 - val_accuracy: 0.4143\n",
            "Epoch 68/200\n",
            "24/24 [==============================] - 0s 4ms/step - loss: 1.2536 - accuracy: 0.4248 - val_loss: 1.2631 - val_accuracy: 0.4160\n",
            "Epoch 69/200\n",
            "24/24 [==============================] - 0s 4ms/step - loss: 1.2532 - accuracy: 0.4225 - val_loss: 1.2628 - val_accuracy: 0.4167\n",
            "Epoch 70/200\n",
            "24/24 [==============================] - 0s 4ms/step - loss: 1.2516 - accuracy: 0.4252 - val_loss: 1.2616 - val_accuracy: 0.4119\n",
            "Epoch 71/200\n",
            "24/24 [==============================] - 0s 4ms/step - loss: 1.2511 - accuracy: 0.4220 - val_loss: 1.2609 - val_accuracy: 0.4098\n",
            "Epoch 72/200\n",
            "24/24 [==============================] - 0s 4ms/step - loss: 1.2503 - accuracy: 0.4250 - val_loss: 1.2607 - val_accuracy: 0.4122\n",
            "Epoch 73/200\n",
            "24/24 [==============================] - 0s 4ms/step - loss: 1.2495 - accuracy: 0.4238 - val_loss: 1.2595 - val_accuracy: 0.4129\n",
            "Epoch 74/200\n",
            "24/24 [==============================] - 0s 4ms/step - loss: 1.2486 - accuracy: 0.4233 - val_loss: 1.2587 - val_accuracy: 0.4126\n",
            "Epoch 75/200\n",
            "24/24 [==============================] - 0s 6ms/step - loss: 1.2486 - accuracy: 0.4265 - val_loss: 1.2590 - val_accuracy: 0.4102\n",
            "Epoch 76/200\n",
            "24/24 [==============================] - 0s 15ms/step - loss: 1.2475 - accuracy: 0.4279 - val_loss: 1.2575 - val_accuracy: 0.4164\n",
            "Epoch 77/200\n",
            "24/24 [==============================] - 0s 6ms/step - loss: 1.2466 - accuracy: 0.4267 - val_loss: 1.2566 - val_accuracy: 0.4170\n",
            "Epoch 78/200\n",
            "24/24 [==============================] - 0s 4ms/step - loss: 1.2457 - accuracy: 0.4255 - val_loss: 1.2557 - val_accuracy: 0.4170\n",
            "Epoch 79/200\n",
            "24/24 [==============================] - 0s 4ms/step - loss: 1.2443 - accuracy: 0.4264 - val_loss: 1.2547 - val_accuracy: 0.4188\n",
            "Epoch 80/200\n",
            "24/24 [==============================] - 0s 4ms/step - loss: 1.2425 - accuracy: 0.4314 - val_loss: 1.2543 - val_accuracy: 0.4177\n",
            "Epoch 81/200\n",
            "24/24 [==============================] - 0s 4ms/step - loss: 1.2409 - accuracy: 0.4303 - val_loss: 1.2526 - val_accuracy: 0.4191\n",
            "Epoch 82/200\n",
            "24/24 [==============================] - 0s 4ms/step - loss: 1.2394 - accuracy: 0.4336 - val_loss: 1.2519 - val_accuracy: 0.4215\n",
            "Epoch 83/200\n",
            "24/24 [==============================] - 0s 4ms/step - loss: 1.2386 - accuracy: 0.4343 - val_loss: 1.2509 - val_accuracy: 0.4239\n",
            "Epoch 84/200\n",
            "24/24 [==============================] - 0s 4ms/step - loss: 1.2379 - accuracy: 0.4397 - val_loss: 1.2520 - val_accuracy: 0.4246\n",
            "Epoch 85/200\n",
            "24/24 [==============================] - 0s 4ms/step - loss: 1.2377 - accuracy: 0.4379 - val_loss: 1.2502 - val_accuracy: 0.4263\n",
            "Epoch 86/200\n",
            "24/24 [==============================] - 0s 5ms/step - loss: 1.2364 - accuracy: 0.4406 - val_loss: 1.2499 - val_accuracy: 0.4273\n",
            "Epoch 87/200\n",
            "24/24 [==============================] - 0s 4ms/step - loss: 1.2360 - accuracy: 0.4421 - val_loss: 1.2495 - val_accuracy: 0.4291\n",
            "Epoch 88/200\n",
            "24/24 [==============================] - 0s 4ms/step - loss: 1.2363 - accuracy: 0.4362 - val_loss: 1.2489 - val_accuracy: 0.4263\n",
            "Epoch 89/200\n",
            "24/24 [==============================] - 0s 4ms/step - loss: 1.2356 - accuracy: 0.4377 - val_loss: 1.2488 - val_accuracy: 0.4270\n",
            "Epoch 90/200\n",
            "24/24 [==============================] - 0s 4ms/step - loss: 1.2348 - accuracy: 0.4394 - val_loss: 1.2484 - val_accuracy: 0.4287\n",
            "Epoch 91/200\n",
            "24/24 [==============================] - 0s 4ms/step - loss: 1.2346 - accuracy: 0.4414 - val_loss: 1.2481 - val_accuracy: 0.4301\n",
            "Epoch 92/200\n",
            "24/24 [==============================] - 0s 4ms/step - loss: 1.2341 - accuracy: 0.4399 - val_loss: 1.2476 - val_accuracy: 0.4280\n",
            "Epoch 93/200\n",
            "24/24 [==============================] - 0s 4ms/step - loss: 1.2335 - accuracy: 0.4403 - val_loss: 1.2474 - val_accuracy: 0.4318\n",
            "Epoch 94/200\n",
            "24/24 [==============================] - 0s 4ms/step - loss: 1.2340 - accuracy: 0.4399 - val_loss: 1.2475 - val_accuracy: 0.4294\n",
            "Epoch 95/200\n",
            "24/24 [==============================] - 0s 4ms/step - loss: 1.2330 - accuracy: 0.4404 - val_loss: 1.2472 - val_accuracy: 0.4318\n",
            "Epoch 96/200\n",
            "24/24 [==============================] - 0s 5ms/step - loss: 1.2325 - accuracy: 0.4404 - val_loss: 1.2469 - val_accuracy: 0.4308\n",
            "Epoch 97/200\n",
            "24/24 [==============================] - 0s 4ms/step - loss: 1.2323 - accuracy: 0.4387 - val_loss: 1.2471 - val_accuracy: 0.4287\n",
            "Epoch 98/200\n",
            "24/24 [==============================] - 0s 4ms/step - loss: 1.2322 - accuracy: 0.4394 - val_loss: 1.2475 - val_accuracy: 0.4315\n",
            "Epoch 99/200\n",
            "24/24 [==============================] - 0s 4ms/step - loss: 1.2315 - accuracy: 0.4375 - val_loss: 1.2461 - val_accuracy: 0.4349\n",
            "Epoch 100/200\n",
            "24/24 [==============================] - 0s 4ms/step - loss: 1.2311 - accuracy: 0.4428 - val_loss: 1.2462 - val_accuracy: 0.4325\n",
            "Epoch 101/200\n",
            "24/24 [==============================] - 0s 4ms/step - loss: 1.2306 - accuracy: 0.4419 - val_loss: 1.2453 - val_accuracy: 0.4352\n",
            "Epoch 102/200\n",
            "24/24 [==============================] - 0s 4ms/step - loss: 1.2313 - accuracy: 0.4386 - val_loss: 1.2459 - val_accuracy: 0.4366\n",
            "Epoch 103/200\n",
            "24/24 [==============================] - 0s 4ms/step - loss: 1.2315 - accuracy: 0.4445 - val_loss: 1.2451 - val_accuracy: 0.4328\n",
            "Epoch 104/200\n",
            "24/24 [==============================] - 0s 4ms/step - loss: 1.2301 - accuracy: 0.4438 - val_loss: 1.2446 - val_accuracy: 0.4363\n",
            "Epoch 105/200\n",
            "24/24 [==============================] - 0s 4ms/step - loss: 1.2298 - accuracy: 0.4438 - val_loss: 1.2445 - val_accuracy: 0.4359\n",
            "Epoch 106/200\n",
            "24/24 [==============================] - 0s 5ms/step - loss: 1.2294 - accuracy: 0.4428 - val_loss: 1.2440 - val_accuracy: 0.4335\n",
            "Epoch 107/200\n",
            "24/24 [==============================] - 0s 4ms/step - loss: 1.2293 - accuracy: 0.4426 - val_loss: 1.2436 - val_accuracy: 0.4363\n",
            "Epoch 108/200\n",
            "24/24 [==============================] - 0s 6ms/step - loss: 1.2292 - accuracy: 0.4428 - val_loss: 1.2437 - val_accuracy: 0.4377\n",
            "Epoch 109/200\n",
            "24/24 [==============================] - 0s 4ms/step - loss: 1.2292 - accuracy: 0.4433 - val_loss: 1.2434 - val_accuracy: 0.4377\n",
            "Epoch 110/200\n",
            "24/24 [==============================] - 0s 4ms/step - loss: 1.2293 - accuracy: 0.4447 - val_loss: 1.2433 - val_accuracy: 0.4387\n",
            "Epoch 111/200\n",
            "24/24 [==============================] - 0s 4ms/step - loss: 1.2284 - accuracy: 0.4435 - val_loss: 1.2428 - val_accuracy: 0.4387\n",
            "Epoch 112/200\n",
            "24/24 [==============================] - 0s 4ms/step - loss: 1.2282 - accuracy: 0.4436 - val_loss: 1.2426 - val_accuracy: 0.4363\n",
            "Epoch 113/200\n",
            "24/24 [==============================] - 0s 4ms/step - loss: 1.2282 - accuracy: 0.4419 - val_loss: 1.2423 - val_accuracy: 0.4359\n",
            "Epoch 114/200\n",
            "24/24 [==============================] - 0s 4ms/step - loss: 1.2279 - accuracy: 0.4426 - val_loss: 1.2421 - val_accuracy: 0.4363\n",
            "Epoch 115/200\n",
            "24/24 [==============================] - 0s 4ms/step - loss: 1.2276 - accuracy: 0.4428 - val_loss: 1.2417 - val_accuracy: 0.4366\n",
            "Epoch 116/200\n",
            "24/24 [==============================] - 0s 4ms/step - loss: 1.2276 - accuracy: 0.4418 - val_loss: 1.2419 - val_accuracy: 0.4377\n",
            "Epoch 117/200\n",
            "24/24 [==============================] - 0s 4ms/step - loss: 1.2270 - accuracy: 0.4425 - val_loss: 1.2416 - val_accuracy: 0.4363\n",
            "Epoch 118/200\n",
            "24/24 [==============================] - 0s 7ms/step - loss: 1.2270 - accuracy: 0.4438 - val_loss: 1.2413 - val_accuracy: 0.4366\n",
            "Epoch 119/200\n",
            "24/24 [==============================] - 0s 8ms/step - loss: 1.2269 - accuracy: 0.4435 - val_loss: 1.2412 - val_accuracy: 0.4370\n",
            "Epoch 120/200\n",
            "24/24 [==============================] - 0s 8ms/step - loss: 1.2265 - accuracy: 0.4411 - val_loss: 1.2411 - val_accuracy: 0.4380\n",
            "Epoch 121/200\n",
            "24/24 [==============================] - 0s 6ms/step - loss: 1.2263 - accuracy: 0.4435 - val_loss: 1.2411 - val_accuracy: 0.4377\n",
            "Epoch 122/200\n",
            "24/24 [==============================] - 0s 8ms/step - loss: 1.2263 - accuracy: 0.4452 - val_loss: 1.2406 - val_accuracy: 0.4397\n",
            "Epoch 123/200\n",
            "24/24 [==============================] - 0s 6ms/step - loss: 1.2258 - accuracy: 0.4452 - val_loss: 1.2408 - val_accuracy: 0.4373\n",
            "Epoch 124/200\n",
            "24/24 [==============================] - 0s 7ms/step - loss: 1.2259 - accuracy: 0.4443 - val_loss: 1.2403 - val_accuracy: 0.4407\n",
            "Epoch 125/200\n",
            "24/24 [==============================] - 0s 5ms/step - loss: 1.2257 - accuracy: 0.4452 - val_loss: 1.2403 - val_accuracy: 0.4383\n",
            "Epoch 126/200\n",
            "24/24 [==============================] - 0s 7ms/step - loss: 1.2255 - accuracy: 0.4465 - val_loss: 1.2404 - val_accuracy: 0.4380\n",
            "Epoch 127/200\n",
            "24/24 [==============================] - 0s 6ms/step - loss: 1.2253 - accuracy: 0.4465 - val_loss: 1.2404 - val_accuracy: 0.4383\n",
            "Epoch 128/200\n",
            "24/24 [==============================] - 0s 6ms/step - loss: 1.2253 - accuracy: 0.4460 - val_loss: 1.2407 - val_accuracy: 0.4401\n",
            "Epoch 129/200\n",
            "24/24 [==============================] - 0s 7ms/step - loss: 1.2261 - accuracy: 0.4472 - val_loss: 1.2402 - val_accuracy: 0.4394\n",
            "Epoch 130/200\n",
            "24/24 [==============================] - 0s 7ms/step - loss: 1.2246 - accuracy: 0.4480 - val_loss: 1.2397 - val_accuracy: 0.4373\n",
            "Epoch 131/200\n",
            "24/24 [==============================] - 0s 8ms/step - loss: 1.2249 - accuracy: 0.4450 - val_loss: 1.2405 - val_accuracy: 0.4377\n",
            "Epoch 132/200\n",
            "24/24 [==============================] - 0s 6ms/step - loss: 1.2247 - accuracy: 0.4470 - val_loss: 1.2396 - val_accuracy: 0.4377\n",
            "Epoch 133/200\n",
            "24/24 [==============================] - 0s 4ms/step - loss: 1.2242 - accuracy: 0.4463 - val_loss: 1.2394 - val_accuracy: 0.4397\n",
            "Epoch 134/200\n",
            "24/24 [==============================] - 0s 4ms/step - loss: 1.2243 - accuracy: 0.4501 - val_loss: 1.2401 - val_accuracy: 0.4359\n",
            "Epoch 135/200\n",
            "24/24 [==============================] - 0s 4ms/step - loss: 1.2245 - accuracy: 0.4457 - val_loss: 1.2389 - val_accuracy: 0.4373\n",
            "Epoch 136/200\n",
            "24/24 [==============================] - 0s 4ms/step - loss: 1.2253 - accuracy: 0.4491 - val_loss: 1.2387 - val_accuracy: 0.4366\n",
            "Epoch 137/200\n",
            "24/24 [==============================] - 0s 5ms/step - loss: 1.2241 - accuracy: 0.4487 - val_loss: 1.2383 - val_accuracy: 0.4407\n",
            "Epoch 138/200\n",
            "24/24 [==============================] - 0s 4ms/step - loss: 1.2241 - accuracy: 0.4472 - val_loss: 1.2381 - val_accuracy: 0.4356\n",
            "Epoch 139/200\n",
            "24/24 [==============================] - 0s 4ms/step - loss: 1.2234 - accuracy: 0.4485 - val_loss: 1.2381 - val_accuracy: 0.4373\n",
            "Epoch 140/200\n",
            "24/24 [==============================] - 0s 4ms/step - loss: 1.2233 - accuracy: 0.4475 - val_loss: 1.2384 - val_accuracy: 0.4352\n",
            "Epoch 141/200\n",
            "24/24 [==============================] - 0s 4ms/step - loss: 1.2231 - accuracy: 0.4463 - val_loss: 1.2377 - val_accuracy: 0.4377\n",
            "Epoch 142/200\n",
            "24/24 [==============================] - 0s 4ms/step - loss: 1.2232 - accuracy: 0.4474 - val_loss: 1.2376 - val_accuracy: 0.4380\n",
            "Epoch 143/200\n",
            "24/24 [==============================] - 0s 4ms/step - loss: 1.2243 - accuracy: 0.4479 - val_loss: 1.2389 - val_accuracy: 0.4394\n",
            "Epoch 144/200\n",
            "24/24 [==============================] - 0s 4ms/step - loss: 1.2233 - accuracy: 0.4479 - val_loss: 1.2376 - val_accuracy: 0.4394\n",
            "Epoch 145/200\n",
            "24/24 [==============================] - 0s 4ms/step - loss: 1.2227 - accuracy: 0.4496 - val_loss: 1.2373 - val_accuracy: 0.4407\n",
            "Epoch 146/200\n",
            "24/24 [==============================] - 0s 4ms/step - loss: 1.2224 - accuracy: 0.4511 - val_loss: 1.2374 - val_accuracy: 0.4383\n",
            "Epoch 147/200\n",
            "24/24 [==============================] - 0s 5ms/step - loss: 1.2223 - accuracy: 0.4509 - val_loss: 1.2370 - val_accuracy: 0.4425\n",
            "Epoch 148/200\n",
            "24/24 [==============================] - 0s 6ms/step - loss: 1.2224 - accuracy: 0.4540 - val_loss: 1.2372 - val_accuracy: 0.4411\n",
            "Epoch 149/200\n",
            "24/24 [==============================] - 0s 4ms/step - loss: 1.2226 - accuracy: 0.4506 - val_loss: 1.2373 - val_accuracy: 0.4414\n",
            "Epoch 150/200\n",
            "24/24 [==============================] - 0s 4ms/step - loss: 1.2220 - accuracy: 0.4521 - val_loss: 1.2369 - val_accuracy: 0.4418\n",
            "Epoch 151/200\n",
            "24/24 [==============================] - 0s 4ms/step - loss: 1.2224 - accuracy: 0.4506 - val_loss: 1.2372 - val_accuracy: 0.4401\n",
            "Epoch 152/200\n",
            "24/24 [==============================] - 0s 4ms/step - loss: 1.2219 - accuracy: 0.4516 - val_loss: 1.2367 - val_accuracy: 0.4356\n",
            "Epoch 153/200\n",
            "24/24 [==============================] - 0s 4ms/step - loss: 1.2220 - accuracy: 0.4513 - val_loss: 1.2369 - val_accuracy: 0.4387\n",
            "Epoch 154/200\n",
            "24/24 [==============================] - 0s 4ms/step - loss: 1.2218 - accuracy: 0.4514 - val_loss: 1.2363 - val_accuracy: 0.4431\n",
            "Epoch 155/200\n",
            "24/24 [==============================] - 0s 4ms/step - loss: 1.2225 - accuracy: 0.4504 - val_loss: 1.2367 - val_accuracy: 0.4428\n",
            "Epoch 156/200\n",
            "24/24 [==============================] - 0s 6ms/step - loss: 1.2236 - accuracy: 0.4518 - val_loss: 1.2376 - val_accuracy: 0.4411\n",
            "Epoch 157/200\n",
            "24/24 [==============================] - 0s 4ms/step - loss: 1.2221 - accuracy: 0.4499 - val_loss: 1.2366 - val_accuracy: 0.4414\n",
            "Epoch 158/200\n",
            "24/24 [==============================] - 0s 4ms/step - loss: 1.2213 - accuracy: 0.4524 - val_loss: 1.2359 - val_accuracy: 0.4397\n",
            "Epoch 159/200\n",
            "24/24 [==============================] - 0s 4ms/step - loss: 1.2219 - accuracy: 0.4487 - val_loss: 1.2356 - val_accuracy: 0.4387\n",
            "Epoch 160/200\n",
            "24/24 [==============================] - 0s 4ms/step - loss: 1.2211 - accuracy: 0.4518 - val_loss: 1.2358 - val_accuracy: 0.4387\n",
            "Epoch 161/200\n",
            "24/24 [==============================] - 0s 4ms/step - loss: 1.2216 - accuracy: 0.4516 - val_loss: 1.2359 - val_accuracy: 0.4397\n",
            "Epoch 162/200\n",
            "24/24 [==============================] - 0s 4ms/step - loss: 1.2210 - accuracy: 0.4504 - val_loss: 1.2354 - val_accuracy: 0.4390\n",
            "Epoch 163/200\n",
            "24/24 [==============================] - 0s 4ms/step - loss: 1.2214 - accuracy: 0.4497 - val_loss: 1.2352 - val_accuracy: 0.4380\n",
            "Epoch 164/200\n",
            "24/24 [==============================] - 0s 4ms/step - loss: 1.2204 - accuracy: 0.4504 - val_loss: 1.2353 - val_accuracy: 0.4397\n",
            "Epoch 165/200\n",
            "24/24 [==============================] - 0s 4ms/step - loss: 1.2206 - accuracy: 0.4514 - val_loss: 1.2357 - val_accuracy: 0.4397\n",
            "Epoch 166/200\n",
            "24/24 [==============================] - 0s 6ms/step - loss: 1.2209 - accuracy: 0.4491 - val_loss: 1.2359 - val_accuracy: 0.4394\n",
            "Epoch 167/200\n",
            "24/24 [==============================] - 0s 4ms/step - loss: 1.2203 - accuracy: 0.4513 - val_loss: 1.2348 - val_accuracy: 0.4397\n",
            "Epoch 168/200\n",
            "24/24 [==============================] - 0s 4ms/step - loss: 1.2202 - accuracy: 0.4513 - val_loss: 1.2345 - val_accuracy: 0.4404\n",
            "Epoch 169/200\n",
            "24/24 [==============================] - 0s 4ms/step - loss: 1.2201 - accuracy: 0.4506 - val_loss: 1.2346 - val_accuracy: 0.4407\n",
            "Epoch 170/200\n",
            "24/24 [==============================] - 0s 4ms/step - loss: 1.2209 - accuracy: 0.4543 - val_loss: 1.2348 - val_accuracy: 0.4380\n",
            "Epoch 171/200\n",
            "24/24 [==============================] - 0s 4ms/step - loss: 1.2205 - accuracy: 0.4489 - val_loss: 1.2345 - val_accuracy: 0.4394\n",
            "Epoch 172/200\n",
            "24/24 [==============================] - 0s 4ms/step - loss: 1.2199 - accuracy: 0.4523 - val_loss: 1.2343 - val_accuracy: 0.4404\n",
            "Epoch 173/200\n",
            "24/24 [==============================] - 0s 4ms/step - loss: 1.2194 - accuracy: 0.4541 - val_loss: 1.2346 - val_accuracy: 0.4428\n",
            "Epoch 174/200\n",
            "24/24 [==============================] - 0s 4ms/step - loss: 1.2193 - accuracy: 0.4518 - val_loss: 1.2340 - val_accuracy: 0.4438\n",
            "Epoch 175/200\n",
            "24/24 [==============================] - 0s 4ms/step - loss: 1.2197 - accuracy: 0.4535 - val_loss: 1.2341 - val_accuracy: 0.4425\n",
            "Epoch 176/200\n",
            "24/24 [==============================] - 0s 4ms/step - loss: 1.2190 - accuracy: 0.4528 - val_loss: 1.2338 - val_accuracy: 0.4435\n",
            "Epoch 177/200\n",
            "24/24 [==============================] - 0s 4ms/step - loss: 1.2191 - accuracy: 0.4540 - val_loss: 1.2340 - val_accuracy: 0.4414\n",
            "Epoch 178/200\n",
            "24/24 [==============================] - 0s 4ms/step - loss: 1.2197 - accuracy: 0.4541 - val_loss: 1.2344 - val_accuracy: 0.4407\n",
            "Epoch 179/200\n",
            "24/24 [==============================] - 0s 4ms/step - loss: 1.2194 - accuracy: 0.4521 - val_loss: 1.2335 - val_accuracy: 0.4421\n",
            "Epoch 180/200\n",
            "24/24 [==============================] - 0s 4ms/step - loss: 1.2194 - accuracy: 0.4553 - val_loss: 1.2333 - val_accuracy: 0.4435\n",
            "Epoch 181/200\n",
            "24/24 [==============================] - 0s 4ms/step - loss: 1.2189 - accuracy: 0.4536 - val_loss: 1.2333 - val_accuracy: 0.4414\n",
            "Epoch 182/200\n",
            "24/24 [==============================] - 0s 4ms/step - loss: 1.2198 - accuracy: 0.4538 - val_loss: 1.2336 - val_accuracy: 0.4421\n",
            "Epoch 183/200\n",
            "24/24 [==============================] - 0s 4ms/step - loss: 1.2185 - accuracy: 0.4551 - val_loss: 1.2330 - val_accuracy: 0.4421\n",
            "Epoch 184/200\n",
            "24/24 [==============================] - 0s 4ms/step - loss: 1.2187 - accuracy: 0.4560 - val_loss: 1.2338 - val_accuracy: 0.4394\n",
            "Epoch 185/200\n",
            "24/24 [==============================] - 0s 4ms/step - loss: 1.2185 - accuracy: 0.4543 - val_loss: 1.2331 - val_accuracy: 0.4442\n",
            "Epoch 186/200\n",
            "24/24 [==============================] - 0s 4ms/step - loss: 1.2178 - accuracy: 0.4557 - val_loss: 1.2339 - val_accuracy: 0.4428\n",
            "Epoch 187/200\n",
            "24/24 [==============================] - 0s 4ms/step - loss: 1.2190 - accuracy: 0.4524 - val_loss: 1.2328 - val_accuracy: 0.4407\n",
            "Epoch 188/200\n",
            "24/24 [==============================] - 0s 4ms/step - loss: 1.2178 - accuracy: 0.4540 - val_loss: 1.2335 - val_accuracy: 0.4418\n",
            "Epoch 189/200\n",
            "24/24 [==============================] - 0s 4ms/step - loss: 1.2179 - accuracy: 0.4546 - val_loss: 1.2325 - val_accuracy: 0.4411\n",
            "Epoch 190/200\n",
            "24/24 [==============================] - 0s 4ms/step - loss: 1.2175 - accuracy: 0.4551 - val_loss: 1.2326 - val_accuracy: 0.4421\n",
            "Epoch 191/200\n",
            "24/24 [==============================] - 0s 4ms/step - loss: 1.2176 - accuracy: 0.4548 - val_loss: 1.2324 - val_accuracy: 0.4414\n",
            "Epoch 192/200\n",
            "24/24 [==============================] - 0s 4ms/step - loss: 1.2183 - accuracy: 0.4545 - val_loss: 1.2324 - val_accuracy: 0.4407\n",
            "Epoch 193/200\n",
            "24/24 [==============================] - 0s 4ms/step - loss: 1.2177 - accuracy: 0.4550 - val_loss: 1.2325 - val_accuracy: 0.4438\n",
            "Epoch 194/200\n",
            "24/24 [==============================] - 0s 4ms/step - loss: 1.2173 - accuracy: 0.4557 - val_loss: 1.2322 - val_accuracy: 0.4401\n",
            "Epoch 195/200\n",
            "24/24 [==============================] - 0s 4ms/step - loss: 1.2171 - accuracy: 0.4562 - val_loss: 1.2320 - val_accuracy: 0.4442\n",
            "Epoch 196/200\n",
            "24/24 [==============================] - 0s 5ms/step - loss: 1.2171 - accuracy: 0.4558 - val_loss: 1.2319 - val_accuracy: 0.4414\n",
            "Epoch 197/200\n",
            "24/24 [==============================] - 0s 4ms/step - loss: 1.2167 - accuracy: 0.4529 - val_loss: 1.2317 - val_accuracy: 0.4407\n",
            "Epoch 198/200\n",
            "24/24 [==============================] - 0s 4ms/step - loss: 1.2175 - accuracy: 0.4553 - val_loss: 1.2317 - val_accuracy: 0.4421\n",
            "Epoch 199/200\n",
            "24/24 [==============================] - 0s 4ms/step - loss: 1.2169 - accuracy: 0.4553 - val_loss: 1.2316 - val_accuracy: 0.4435\n",
            "Epoch 200/200\n",
            "24/24 [==============================] - 0s 4ms/step - loss: 1.2166 - accuracy: 0.4575 - val_loss: 1.2316 - val_accuracy: 0.4397\n"
          ]
        },
        {
          "output_type": "execute_result",
          "data": {
            "text/plain": [
              "<keras.src.callbacks.History at 0x7fa4af7cf3a0>"
            ]
          },
          "metadata": {},
          "execution_count": 68
        }
      ]
    },
    {
      "cell_type": "code",
      "source": [
        "metrics = pd.DataFrame(ai_brain.history.history)"
      ],
      "metadata": {
        "id": "ZkolTd0leyd0"
      },
      "execution_count": 69,
      "outputs": []
    },
    {
      "cell_type": "code",
      "source": [
        "metrics.head()"
      ],
      "metadata": {
        "colab": {
          "base_uri": "https://localhost:8080/",
          "height": 206
        },
        "id": "LsHSHFfAe0-f",
        "outputId": "cb1314ec-0927-4d6a-e647-d93ea7130dd0"
      },
      "execution_count": 70,
      "outputs": [
        {
          "output_type": "execute_result",
          "data": {
            "text/plain": [
              "       loss  accuracy  val_loss  val_accuracy\n",
              "0  1.727109  0.226473  1.575359      0.237032\n",
              "1  1.541210  0.229012  1.475311      0.235314\n",
              "2  1.469309  0.228842  1.436177      0.228100\n",
              "3  1.435978  0.226811  1.415728      0.238406\n",
              "4  1.416759  0.233920  1.404126      0.243902"
            ],
            "text/html": [
              "\n",
              "  <div id=\"df-92929b5f-0780-471b-b077-6524cba6d0d0\" class=\"colab-df-container\">\n",
              "    <div>\n",
              "<style scoped>\n",
              "    .dataframe tbody tr th:only-of-type {\n",
              "        vertical-align: middle;\n",
              "    }\n",
              "\n",
              "    .dataframe tbody tr th {\n",
              "        vertical-align: top;\n",
              "    }\n",
              "\n",
              "    .dataframe thead th {\n",
              "        text-align: right;\n",
              "    }\n",
              "</style>\n",
              "<table border=\"1\" class=\"dataframe\">\n",
              "  <thead>\n",
              "    <tr style=\"text-align: right;\">\n",
              "      <th></th>\n",
              "      <th>loss</th>\n",
              "      <th>accuracy</th>\n",
              "      <th>val_loss</th>\n",
              "      <th>val_accuracy</th>\n",
              "    </tr>\n",
              "  </thead>\n",
              "  <tbody>\n",
              "    <tr>\n",
              "      <th>0</th>\n",
              "      <td>1.727109</td>\n",
              "      <td>0.226473</td>\n",
              "      <td>1.575359</td>\n",
              "      <td>0.237032</td>\n",
              "    </tr>\n",
              "    <tr>\n",
              "      <th>1</th>\n",
              "      <td>1.541210</td>\n",
              "      <td>0.229012</td>\n",
              "      <td>1.475311</td>\n",
              "      <td>0.235314</td>\n",
              "    </tr>\n",
              "    <tr>\n",
              "      <th>2</th>\n",
              "      <td>1.469309</td>\n",
              "      <td>0.228842</td>\n",
              "      <td>1.436177</td>\n",
              "      <td>0.228100</td>\n",
              "    </tr>\n",
              "    <tr>\n",
              "      <th>3</th>\n",
              "      <td>1.435978</td>\n",
              "      <td>0.226811</td>\n",
              "      <td>1.415728</td>\n",
              "      <td>0.238406</td>\n",
              "    </tr>\n",
              "    <tr>\n",
              "      <th>4</th>\n",
              "      <td>1.416759</td>\n",
              "      <td>0.233920</td>\n",
              "      <td>1.404126</td>\n",
              "      <td>0.243902</td>\n",
              "    </tr>\n",
              "  </tbody>\n",
              "</table>\n",
              "</div>\n",
              "    <div class=\"colab-df-buttons\">\n",
              "\n",
              "  <div class=\"colab-df-container\">\n",
              "    <button class=\"colab-df-convert\" onclick=\"convertToInteractive('df-92929b5f-0780-471b-b077-6524cba6d0d0')\"\n",
              "            title=\"Convert this dataframe to an interactive table.\"\n",
              "            style=\"display:none;\">\n",
              "\n",
              "  <svg xmlns=\"http://www.w3.org/2000/svg\" height=\"24px\" viewBox=\"0 -960 960 960\">\n",
              "    <path d=\"M120-120v-720h720v720H120Zm60-500h600v-160H180v160Zm220 220h160v-160H400v160Zm0 220h160v-160H400v160ZM180-400h160v-160H180v160Zm440 0h160v-160H620v160ZM180-180h160v-160H180v160Zm440 0h160v-160H620v160Z\"/>\n",
              "  </svg>\n",
              "    </button>\n",
              "\n",
              "  <style>\n",
              "    .colab-df-container {\n",
              "      display:flex;\n",
              "      gap: 12px;\n",
              "    }\n",
              "\n",
              "    .colab-df-convert {\n",
              "      background-color: #E8F0FE;\n",
              "      border: none;\n",
              "      border-radius: 50%;\n",
              "      cursor: pointer;\n",
              "      display: none;\n",
              "      fill: #1967D2;\n",
              "      height: 32px;\n",
              "      padding: 0 0 0 0;\n",
              "      width: 32px;\n",
              "    }\n",
              "\n",
              "    .colab-df-convert:hover {\n",
              "      background-color: #E2EBFA;\n",
              "      box-shadow: 0px 1px 2px rgba(60, 64, 67, 0.3), 0px 1px 3px 1px rgba(60, 64, 67, 0.15);\n",
              "      fill: #174EA6;\n",
              "    }\n",
              "\n",
              "    .colab-df-buttons div {\n",
              "      margin-bottom: 4px;\n",
              "    }\n",
              "\n",
              "    [theme=dark] .colab-df-convert {\n",
              "      background-color: #3B4455;\n",
              "      fill: #D2E3FC;\n",
              "    }\n",
              "\n",
              "    [theme=dark] .colab-df-convert:hover {\n",
              "      background-color: #434B5C;\n",
              "      box-shadow: 0px 1px 3px 1px rgba(0, 0, 0, 0.15);\n",
              "      filter: drop-shadow(0px 1px 2px rgba(0, 0, 0, 0.3));\n",
              "      fill: #FFFFFF;\n",
              "    }\n",
              "  </style>\n",
              "\n",
              "    <script>\n",
              "      const buttonEl =\n",
              "        document.querySelector('#df-92929b5f-0780-471b-b077-6524cba6d0d0 button.colab-df-convert');\n",
              "      buttonEl.style.display =\n",
              "        google.colab.kernel.accessAllowed ? 'block' : 'none';\n",
              "\n",
              "      async function convertToInteractive(key) {\n",
              "        const element = document.querySelector('#df-92929b5f-0780-471b-b077-6524cba6d0d0');\n",
              "        const dataTable =\n",
              "          await google.colab.kernel.invokeFunction('convertToInteractive',\n",
              "                                                    [key], {});\n",
              "        if (!dataTable) return;\n",
              "\n",
              "        const docLinkHtml = 'Like what you see? Visit the ' +\n",
              "          '<a target=\"_blank\" href=https://colab.research.google.com/notebooks/data_table.ipynb>data table notebook</a>'\n",
              "          + ' to learn more about interactive tables.';\n",
              "        element.innerHTML = '';\n",
              "        dataTable['output_type'] = 'display_data';\n",
              "        await google.colab.output.renderOutput(dataTable, element);\n",
              "        const docLink = document.createElement('div');\n",
              "        docLink.innerHTML = docLinkHtml;\n",
              "        element.appendChild(docLink);\n",
              "      }\n",
              "    </script>\n",
              "  </div>\n",
              "\n",
              "\n",
              "<div id=\"df-63699187-b1a0-438c-a0e3-f414b65fe492\">\n",
              "  <button class=\"colab-df-quickchart\" onclick=\"quickchart('df-63699187-b1a0-438c-a0e3-f414b65fe492')\"\n",
              "            title=\"Suggest charts\"\n",
              "            style=\"display:none;\">\n",
              "\n",
              "<svg xmlns=\"http://www.w3.org/2000/svg\" height=\"24px\"viewBox=\"0 0 24 24\"\n",
              "     width=\"24px\">\n",
              "    <g>\n",
              "        <path d=\"M19 3H5c-1.1 0-2 .9-2 2v14c0 1.1.9 2 2 2h14c1.1 0 2-.9 2-2V5c0-1.1-.9-2-2-2zM9 17H7v-7h2v7zm4 0h-2V7h2v10zm4 0h-2v-4h2v4z\"/>\n",
              "    </g>\n",
              "</svg>\n",
              "  </button>\n",
              "\n",
              "<style>\n",
              "  .colab-df-quickchart {\n",
              "      --bg-color: #E8F0FE;\n",
              "      --fill-color: #1967D2;\n",
              "      --hover-bg-color: #E2EBFA;\n",
              "      --hover-fill-color: #174EA6;\n",
              "      --disabled-fill-color: #AAA;\n",
              "      --disabled-bg-color: #DDD;\n",
              "  }\n",
              "\n",
              "  [theme=dark] .colab-df-quickchart {\n",
              "      --bg-color: #3B4455;\n",
              "      --fill-color: #D2E3FC;\n",
              "      --hover-bg-color: #434B5C;\n",
              "      --hover-fill-color: #FFFFFF;\n",
              "      --disabled-bg-color: #3B4455;\n",
              "      --disabled-fill-color: #666;\n",
              "  }\n",
              "\n",
              "  .colab-df-quickchart {\n",
              "    background-color: var(--bg-color);\n",
              "    border: none;\n",
              "    border-radius: 50%;\n",
              "    cursor: pointer;\n",
              "    display: none;\n",
              "    fill: var(--fill-color);\n",
              "    height: 32px;\n",
              "    padding: 0;\n",
              "    width: 32px;\n",
              "  }\n",
              "\n",
              "  .colab-df-quickchart:hover {\n",
              "    background-color: var(--hover-bg-color);\n",
              "    box-shadow: 0 1px 2px rgba(60, 64, 67, 0.3), 0 1px 3px 1px rgba(60, 64, 67, 0.15);\n",
              "    fill: var(--button-hover-fill-color);\n",
              "  }\n",
              "\n",
              "  .colab-df-quickchart-complete:disabled,\n",
              "  .colab-df-quickchart-complete:disabled:hover {\n",
              "    background-color: var(--disabled-bg-color);\n",
              "    fill: var(--disabled-fill-color);\n",
              "    box-shadow: none;\n",
              "  }\n",
              "\n",
              "  .colab-df-spinner {\n",
              "    border: 2px solid var(--fill-color);\n",
              "    border-color: transparent;\n",
              "    border-bottom-color: var(--fill-color);\n",
              "    animation:\n",
              "      spin 1s steps(1) infinite;\n",
              "  }\n",
              "\n",
              "  @keyframes spin {\n",
              "    0% {\n",
              "      border-color: transparent;\n",
              "      border-bottom-color: var(--fill-color);\n",
              "      border-left-color: var(--fill-color);\n",
              "    }\n",
              "    20% {\n",
              "      border-color: transparent;\n",
              "      border-left-color: var(--fill-color);\n",
              "      border-top-color: var(--fill-color);\n",
              "    }\n",
              "    30% {\n",
              "      border-color: transparent;\n",
              "      border-left-color: var(--fill-color);\n",
              "      border-top-color: var(--fill-color);\n",
              "      border-right-color: var(--fill-color);\n",
              "    }\n",
              "    40% {\n",
              "      border-color: transparent;\n",
              "      border-right-color: var(--fill-color);\n",
              "      border-top-color: var(--fill-color);\n",
              "    }\n",
              "    60% {\n",
              "      border-color: transparent;\n",
              "      border-right-color: var(--fill-color);\n",
              "    }\n",
              "    80% {\n",
              "      border-color: transparent;\n",
              "      border-right-color: var(--fill-color);\n",
              "      border-bottom-color: var(--fill-color);\n",
              "    }\n",
              "    90% {\n",
              "      border-color: transparent;\n",
              "      border-bottom-color: var(--fill-color);\n",
              "    }\n",
              "  }\n",
              "</style>\n",
              "\n",
              "  <script>\n",
              "    async function quickchart(key) {\n",
              "      const quickchartButtonEl =\n",
              "        document.querySelector('#' + key + ' button');\n",
              "      quickchartButtonEl.disabled = true;  // To prevent multiple clicks.\n",
              "      quickchartButtonEl.classList.add('colab-df-spinner');\n",
              "      try {\n",
              "        const charts = await google.colab.kernel.invokeFunction(\n",
              "            'suggestCharts', [key], {});\n",
              "      } catch (error) {\n",
              "        console.error('Error during call to suggestCharts:', error);\n",
              "      }\n",
              "      quickchartButtonEl.classList.remove('colab-df-spinner');\n",
              "      quickchartButtonEl.classList.add('colab-df-quickchart-complete');\n",
              "    }\n",
              "    (() => {\n",
              "      let quickchartButtonEl =\n",
              "        document.querySelector('#df-63699187-b1a0-438c-a0e3-f414b65fe492 button');\n",
              "      quickchartButtonEl.style.display =\n",
              "        google.colab.kernel.accessAllowed ? 'block' : 'none';\n",
              "    })();\n",
              "  </script>\n",
              "</div>\n",
              "\n",
              "    </div>\n",
              "  </div>\n"
            ],
            "application/vnd.google.colaboratory.intrinsic+json": {
              "type": "dataframe",
              "variable_name": "metrics",
              "summary": "{\n  \"name\": \"metrics\",\n  \"rows\": 200,\n  \"fields\": [\n    {\n      \"column\": \"loss\",\n      \"properties\": {\n        \"dtype\": \"number\",\n        \"std\": 0.06409421740583901,\n        \"min\": 1.2165583372116089,\n        \"max\": 1.7271088361740112,\n        \"num_unique_values\": 200,\n        \"samples\": [\n          1.232540249824524,\n          1.3612165451049805,\n          1.3130942583084106\n        ],\n        \"semantic_type\": \"\",\n        \"description\": \"\"\n      }\n    },\n    {\n      \"column\": \"accuracy\",\n      \"properties\": {\n        \"dtype\": \"number\",\n        \"std\": 0.053102254423441415,\n        \"min\": 0.22647258639335632,\n        \"max\": 0.45751523971557617,\n        \"num_unique_values\": 151,\n        \"samples\": [\n          0.440589040517807,\n          0.33158430457115173,\n          0.43991199135780334\n        ],\n        \"semantic_type\": \"\",\n        \"description\": \"\"\n      }\n    },\n    {\n      \"column\": \"val_loss\",\n      \"properties\": {\n        \"dtype\": \"number\",\n        \"std\": 0.05150038014666841,\n        \"min\": 1.2316155433654785,\n        \"max\": 1.5753589868545532,\n        \"num_unique_values\": 200,\n        \"samples\": [\n          1.2468584775924683,\n          1.3589760065078735,\n          1.3170795440673828\n        ],\n        \"semantic_type\": \"\",\n        \"description\": \"\"\n      }\n    },\n    {\n      \"column\": \"val_accuracy\",\n      \"properties\": {\n        \"dtype\": \"number\",\n        \"std\": 0.049558790455087924,\n        \"min\": 0.22810031473636627,\n        \"max\": 0.4441772699356079,\n        \"num_unique_values\": 110,\n        \"samples\": [\n          0.43146684765815735,\n          0.28718653321266174,\n          0.24390244483947754\n        ],\n        \"semantic_type\": \"\",\n        \"description\": \"\"\n      }\n    }\n  ]\n}"
            }
          },
          "metadata": {},
          "execution_count": 70
        }
      ]
    },
    {
      "cell_type": "code",
      "source": [
        "metrics[['loss','val_loss']].plot()"
      ],
      "metadata": {
        "colab": {
          "base_uri": "https://localhost:8080/",
          "height": 448
        },
        "id": "RLuadtCLe1X6",
        "outputId": "44315f1b-ca1d-4393-be8f-3935f6a5b0b0"
      },
      "execution_count": 71,
      "outputs": [
        {
          "output_type": "execute_result",
          "data": {
            "text/plain": [
              "<Axes: >"
            ]
          },
          "metadata": {},
          "execution_count": 71
        },
        {
          "output_type": "display_data",
          "data": {
            "text/plain": [
              "<Figure size 640x480 with 1 Axes>"
            ],
            "image/png": "[encoded data removed]"
          },
          "metadata": {}
        }
      ]
    },
    {
      "cell_type": "code",
      "source": [
        "x_test_predictions = np.argmax(ai_brain.predict(X_test_scaled), axis=1)"
      ],
      "metadata": {
        "colab": {
          "base_uri": "https://localhost:8080/"
        },
        "id": "SZbwcccwfFJQ",
        "outputId": "9eff3d37-ec6e-4849-e4e8-84113a381245"
      },
      "execution_count": 72,
      "outputs": [
        {
          "output_type": "stream",
          "name": "stdout",
          "text": [
            "91/91 [==============================] - 0s 2ms/step\n"
          ]
        }
      ]
    },
    {
      "cell_type": "code",
      "source": [
        "x_test_predictions.shape"
      ],
      "metadata": {
        "colab": {
          "base_uri": "https://localhost:8080/"
        },
        "id": "KpjnEWOxgbjW",
        "outputId": "fb310422-9763-47fc-c4ae-08f1f361bdb8"
      },
      "execution_count": 73,
      "outputs": [
        {
          "output_type": "execute_result",
          "data": {
            "text/plain": [
              "(2911,)"
            ]
          },
          "metadata": {},
          "execution_count": 73
        }
      ]
    },
    {
      "cell_type": "code",
      "source": [
        "y_test_truevalue = np.argmax(y_test,axis=1)"
      ],
      "metadata": {
        "id": "h7Wcs4FugfK-"
      },
      "execution_count": 74,
      "outputs": []
    },
    {
      "cell_type": "code",
      "source": [
        "y_test_truevalue.shape"
      ],
      "metadata": {
        "colab": {
          "base_uri": "https://localhost:8080/"
        },
        "id": "LP4Qb2zNghnF",
        "outputId": "18993eef-1201-489c-de49-6a9922d331b7"
      },
      "execution_count": 75,
      "outputs": [
        {
          "output_type": "execute_result",
          "data": {
            "text/plain": [
              "(2911,)"
            ]
          },
          "metadata": {},
          "execution_count": 75
        }
      ]
    },
    {
      "cell_type": "code",
      "source": [
        "print(confusion_matrix(y_test_truevalue,x_test_predictions))"
      ],
      "metadata": {
        "colab": {
          "base_uri": "https://localhost:8080/"
        },
        "id": "YcOv4wvOgkbU",
        "outputId": "6053c716-ad06-4c90-bc75-e065ce6803df"
      },
      "execution_count": 89,
      "outputs": [
        {
          "output_type": "stream",
          "name": "stdout",
          "text": [
            "[[274  42 176 265]\n",
            " [188  36 303 159]\n",
            " [115  31 423 117]\n",
            " [130  27  78 547]]\n"
          ]
        }
      ]
    },
    {
      "cell_type": "code",
      "source": [
        "print(classification_report(y_test_truevalue,x_test_predictions))"
      ],
      "metadata": {
        "colab": {
          "base_uri": "https://localhost:8080/"
        },
        "id": "e9cEqcbOgkrm",
        "outputId": "aaa27785-3860-4f01-e0ef-3b75210194a4"
      },
      "execution_count": 76,
      "outputs": [
        {
          "output_type": "stream",
          "name": "stdout",
          "text": [
            "              precision    recall  f1-score   support\n",
            "\n",
            "           0       0.39      0.36      0.37       757\n",
            "           1       0.26      0.05      0.09       686\n",
            "           2       0.43      0.62      0.51       686\n",
            "           3       0.50      0.70      0.59       782\n",
            "\n",
            "    accuracy                           0.44      2911\n",
            "   macro avg       0.40      0.43      0.39      2911\n",
            "weighted avg       0.40      0.44      0.39      2911\n",
            "\n"
          ]
        }
      ]
    },
    {
      "cell_type": "code",
      "source": [
        "ai_brain.save('customer_classification_model.h5')"
      ],
      "metadata": {
        "colab": {
          "base_uri": "https://localhost:8080/"
        },
        "id": "4EdXb_F9gpg_",
        "outputId": "4e5a83a5-a6b0-4897-db8e-952ee966f6da"
      },
      "execution_count": 83,
      "outputs": [
        {
          "output_type": "stream",
          "name": "stderr",
          "text": [
            "/usr/local/lib/python3.10/dist-packages/keras/src/engine/training.py:3103: UserWarning: You are saving your model as an HDF5 file via `model.save()`. This file format is considered legacy. We recommend using instead the native Keras format, e.g. `model.save('my_model.keras')`.\n",
            "  saving_api.save_model(\n"
          ]
        }
      ]
    },
    {
      "cell_type": "code",
      "source": [
        "with open('customer_data.pickle', 'wb') as fh:\n",
        "   pickle.dump([X_train_scaled,y_train,X_test_scaled,y_test,customers_1,customer_df_cleaned,scaler_age,enc,one_hot_enc,le], fh)\n"
      ],
      "metadata": {
        "id": "jyWF93n8gsOO"
      },
      "execution_count": 84,
      "outputs": []
    },
    {
      "cell_type": "code",
      "source": [
        "ai_brain = load_model('customer_classification_model.h5')"
      ],
      "metadata": {
        "id": "LOGixqNUgunj"
      },
      "execution_count": 86,
      "outputs": []
    },
    {
      "cell_type": "code",
      "source": [
        "with open('customer_data.pickle', 'rb') as fh:\n",
        "   [X_train_scaled,y_train,X_test_scaled,y_test,customers_1,customer_df_cleaned,scaler_age,enc,one_hot_enc,le]=pickle.load(fh)"
      ],
      "metadata": {
        "id": "wIszh7usgxFF"
      },
      "execution_count": 87,
      "outputs": []
    },
    {
      "cell_type": "code",
      "source": [
        "x_single_prediction = np.argmax(ai_brain.predict(X_test_scaled[1:2,:]), axis=1)\n",
        "print(x_single_prediction)\n",
        "print(le.inverse_transform(x_single_prediction))"
      ],
      "metadata": {
        "colab": {
          "base_uri": "https://localhost:8080/"
        },
        "id": "wX9n0AvPg0Fm",
        "outputId": "da9fd769-c6bd-4b75-e132-5ba9aee664db"
      },
      "execution_count": 88,
      "outputs": [
        {
          "output_type": "stream",
          "name": "stdout",
          "text": [
            "1/1 [==============================] - 0s 70ms/step\n",
            "[2]\n",
            "['C']\n"
          ]
        }
      ]
    }
  ]
}